{
  "nbformat": 4,
  "nbformat_minor": 0,
  "metadata": {
    "colab": {
      "name": "Assignment - 007/9 (Letters Count).ipynb",
      "provenance": [],
      "authorship_tag": "ABX9TyMaphudpUxJsYoLZkw4agIA",
      "include_colab_link": true
    },
    "kernelspec": {
      "name": "python3",
      "display_name": "Python 3"
    }
  },
  "cells": [
    {
      "cell_type": "markdown",
      "metadata": {
        "id": "view-in-github",
        "colab_type": "text"
      },
      "source": [
        "<a href=\"https://colab.research.google.com/github/Zuby128/python_lessons/blob/main/Assignment_007_9_(Letters_Count).ipynb\" target=\"_parent\"><img src=\"https://colab.research.google.com/assets/colab-badge.svg\" alt=\"Open In Colab\"/></a>"
      ]
    },
    {
      "cell_type": "code",
      "metadata": {
        "colab": {
          "base_uri": "https://localhost:8080/"
        },
        "id": "DgCbz5K4SHxc",
        "outputId": "84d42e1f-f532-4506-9cdf-24750d95e043"
      },
      "source": [
        "sentence = input(\"enter a sentence: \")\n",
        "\n",
        "letter_counter = {}\n",
        "\n",
        "for i in list(sentence):\n",
        "  if i not in letter_counter:\n",
        "    letter_counter[i] = 1\n",
        "  else: \n",
        "    letter_counter[i] += 1\n",
        "\n",
        "print(letter_counter)"
      ],
      "execution_count": null,
      "outputs": [
        {
          "output_type": "stream",
          "text": [
            "enter a sentence: hippo runs to us!\n",
            "{'h': 1, 'i': 1, 'p': 2, 'o': 2, ' ': 3, 'r': 1, 'u': 2, 'n': 1, 's': 2, 't': 1, '!': 1}\n"
          ],
          "name": "stdout"
        }
      ]
    },
    {
      "cell_type": "code",
      "metadata": {
        "id": "sE7qwgslWFlQ"
      },
      "source": [
        ""
      ],
      "execution_count": null,
      "outputs": []
    }
  ]
}