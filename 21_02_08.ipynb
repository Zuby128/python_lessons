{
  "nbformat": 4,
  "nbformat_minor": 0,
  "metadata": {
    "colab": {
      "name": "21/02/08.ipynb",
      "provenance": [],
      "collapsed_sections": [],
      "authorship_tag": "ABX9TyMYs5kfJGHL5UdI1X9c26Xh",
      "include_colab_link": true
    },
    "kernelspec": {
      "name": "python3",
      "display_name": "Python 3"
    }
  },
  "cells": [
    {
      "cell_type": "markdown",
      "metadata": {
        "id": "view-in-github",
        "colab_type": "text"
      },
      "source": [
        "<a href=\"https://colab.research.google.com/github/Zuby128/python_lessons/blob/main/21_02_08.ipynb\" target=\"_parent\"><img src=\"https://colab.research.google.com/assets/colab-badge.svg\" alt=\"Open In Colab\"/></a>"
      ]
    },
    {
      "cell_type": "code",
      "metadata": {
        "id": "KojvqRIGlTys"
      },
      "source": [
        "from datetime import date"
      ],
      "execution_count": null,
      "outputs": []
    },
    {
      "cell_type": "code",
      "metadata": {
        "id": "GTWtUelWuYbR"
      },
      "source": [
        "my_today = date.today()"
      ],
      "execution_count": null,
      "outputs": []
    },
    {
      "cell_type": "code",
      "metadata": {
        "colab": {
          "base_uri": "https://localhost:8080/"
        },
        "id": "U0-IZQquu3Wd",
        "outputId": "0fe30ae1-0afb-44fe-c4b3-c2ba6035dea4"
      },
      "source": [
        "my_today"
      ],
      "execution_count": null,
      "outputs": [
        {
          "output_type": "execute_result",
          "data": {
            "text/plain": [
              "datetime.date(2021, 2, 8)"
            ]
          },
          "metadata": {
            "tags": []
          },
          "execution_count": 3
        }
      ]
    },
    {
      "cell_type": "code",
      "metadata": {
        "colab": {
          "base_uri": "https://localhost:8080/"
        },
        "id": "P_U1HOOOvGa9",
        "outputId": "3510dd02-48f6-401a-9467-3796220585d1"
      },
      "source": [
        "print(my_today)"
      ],
      "execution_count": null,
      "outputs": [
        {
          "output_type": "stream",
          "text": [
            "2021-02-08\n"
          ],
          "name": "stdout"
        }
      ]
    },
    {
      "cell_type": "code",
      "metadata": {
        "colab": {
          "base_uri": "https://localhost:8080/"
        },
        "id": "owSxKbyvvJas",
        "outputId": "f86532f0-4d82-4a28-cee4-4bd62bb40297"
      },
      "source": [
        "my_today.year\r\n",
        "my_today.month\r\n",
        "my_today.day"
      ],
      "execution_count": null,
      "outputs": [
        {
          "output_type": "execute_result",
          "data": {
            "text/plain": [
              "8"
            ]
          },
          "metadata": {
            "tags": []
          },
          "execution_count": 5
        }
      ]
    },
    {
      "cell_type": "code",
      "metadata": {
        "colab": {
          "base_uri": "https://localhost:8080/"
        },
        "id": "osfm-TiIvYNx",
        "outputId": "2808ca9f-ca4d-4fe0-f781-bde03caf92b5"
      },
      "source": [
        "{i: i**3 for i in range(10)}"
      ],
      "execution_count": null,
      "outputs": [
        {
          "output_type": "execute_result",
          "data": {
            "text/plain": [
              "{0: 0, 1: 1, 2: 8, 3: 27, 4: 64, 5: 125, 6: 216, 7: 343, 8: 512, 9: 729}"
            ]
          },
          "metadata": {
            "tags": []
          },
          "execution_count": 11
        },
        {
          "output_type": "execute_result",
          "data": {
            "text/plain": [
              "{0: 0, 1: 1, 2: 8, 3: 27, 4: 64, 5: 125, 6: 216, 7: 343, 8: 512, 9: 729}"
            ]
          },
          "metadata": {
            "tags": []
          },
          "execution_count": 12
        }
      ]
    },
    {
      "cell_type": "code",
      "metadata": {
        "colab": {
          "base_uri": "https://localhost:8080/"
        },
        "id": "tV3mN40WwQry",
        "outputId": "14d281e2-60fc-46a7-97f8-cb3fe5d21527"
      },
      "source": [
        "{f\"square of {i}\": i**2 for i in range(10)}"
      ],
      "execution_count": null,
      "outputs": [
        {
          "output_type": "execute_result",
          "data": {
            "text/plain": [
              "{'square of 0': 0,\n",
              " 'square of 1': 1,\n",
              " 'square of 2': 4,\n",
              " 'square of 3': 9,\n",
              " 'square of 4': 16,\n",
              " 'square of 5': 25,\n",
              " 'square of 6': 36,\n",
              " 'square of 7': 49,\n",
              " 'square of 8': 64,\n",
              " 'square of 9': 81}"
            ]
          },
          "metadata": {
            "tags": []
          },
          "execution_count": 14
        }
      ]
    },
    {
      "cell_type": "code",
      "metadata": {
        "colab": {
          "base_uri": "https://localhost:8080/"
        },
        "id": "mp8-6x6EyA04",
        "outputId": "b5d9d621-c667-4003-a5d5-f41f268d1b80"
      },
      "source": [
        "L=[\"up 3\", \"down 8\"]\r\n",
        "x, y = 0, 0\r\n",
        "for i in L:\r\n",
        "  if i.split()[0] == \"up\":\r\n",
        "    y += int(i.split()[1])\r\n",
        "  elif i.split()[0] == \"down\":\r\n",
        "    y -= int(i.split()[1])\r\n",
        "  elif i.split()[0] == \"left\":\r\n",
        "    x -= int(i.split()[1])\r\n",
        "  elif i.split()[0] == \"right\":\r\n",
        "    x -= int(i.split()[1])\r\n",
        "\r\n",
        "print ([x, y])"
      ],
      "execution_count": null,
      "outputs": [
        {
          "output_type": "stream",
          "text": [
            "[0, -5]\n"
          ],
          "name": "stdout"
        }
      ]
    },
    {
      "cell_type": "code",
      "metadata": {
        "id": "cunauzIgFgNU"
      },
      "source": [
        "L1 = [\"right 10\", \"right 50\", \"left 30\", \"up 3\", \"down 12\"]\r\n",
        "\r\n",
        "# x = y = 0\r\n",
        "# for i in range(len(L1)):\r\n",
        "#   if L1[i].startswith(\"r\"): x = x + "
      ],
      "execution_count": null,
      "outputs": []
    },
    {
      "cell_type": "code",
      "metadata": {
        "colab": {
          "base_uri": "https://localhost:8080/"
        },
        "id": "CdjLiYAsHh5j",
        "outputId": "8edb69d2-62ff-487a-e185-6f892a95d45e"
      },
      "source": [
        "print(\"ahttps://www.google.com\".startswith((\"ahttps://\",\"http://\",\"https://\")))\r\n",
        "# make startswith part tuple so it become one element"
      ],
      "execution_count": null,
      "outputs": [
        {
          "output_type": "stream",
          "text": [
            "True\n"
          ],
          "name": "stdout"
        }
      ]
    },
    {
      "cell_type": "code",
      "metadata": {
        "colab": {
          "base_uri": "https://localhost:8080/"
        },
        "id": "FZ5Lukt3IL6S",
        "outputId": "aa3af51e-ecfb-4d54-f187-c53822fa4f42"
      },
      "source": [
        "print(\"ahttps://www.google.com\".endswith((\".com\",\".co.uk\")))\r\n",
        "# same with above"
      ],
      "execution_count": null,
      "outputs": [
        {
          "output_type": "stream",
          "text": [
            "True\n"
          ],
          "name": "stdout"
        }
      ]
    },
    {
      "cell_type": "code",
      "metadata": {
        "colab": {
          "base_uri": "https://localhost:8080/"
        },
        "id": "T2yYdWKWIYSM",
        "outputId": "d60a9468-2641-44c2-dcda-697f21212113"
      },
      "source": [
        "dict_couple = {\"female\" : [\"marry\", \"bella\", \"lolly\"],\r\n",
        "               \"male\" : [\"rye\", \"fred\", \"tom\"]}\r\n",
        "\r\n",
        "def marry(female, male):\r\n",
        "  couple_list=[]\r\n",
        "  for i in zip(female,male):\r\n",
        "    couple_list.append(i)\r\n",
        "  return couple_list\r\n",
        "\r\n",
        "marry(**dict_couple)  # eğer buraya ** koymazsak çalışmıyor"
      ],
      "execution_count": null,
      "outputs": [
        {
          "output_type": "execute_result",
          "data": {
            "text/plain": [
              "[('marry', 'rye'), ('bella', 'fred'), ('lolly', 'tom')]"
            ]
          },
          "metadata": {
            "tags": []
          },
          "execution_count": 25
        }
      ]
    },
    {
      "cell_type": "code",
      "metadata": {
        "id": "tHKRIns2LwxZ"
      },
      "source": [
        "def marry(female, male):\r\n",
        "  return [i for i in zip(female, male)]  # same as above"
      ],
      "execution_count": null,
      "outputs": []
    },
    {
      "cell_type": "code",
      "metadata": {
        "id": "4WAXpTCPMy9t"
      },
      "source": [
        ""
      ],
      "execution_count": null,
      "outputs": []
    }
  ]
}