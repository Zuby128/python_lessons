{
  "nbformat": 4,
  "nbformat_minor": 0,
  "metadata": {
    "colab": {
      "name": "21/01/18.ipynb",
      "provenance": [],
      "collapsed_sections": [],
      "authorship_tag": "ABX9TyNcyAVbvhw4Z5rqLvlnKfQg",
      "include_colab_link": true
    },
    "kernelspec": {
      "name": "python3",
      "display_name": "Python 3"
    }
  },
  "cells": [
    {
      "cell_type": "markdown",
      "metadata": {
        "id": "view-in-github",
        "colab_type": "text"
      },
      "source": [
        "<a href=\"https://colab.research.google.com/github/Zuby128/python_lessons/blob/main/21_01_18.ipynb\" target=\"_parent\"><img src=\"https://colab.research.google.com/assets/colab-badge.svg\" alt=\"Open In Colab\"/></a>"
      ]
    },
    {
      "cell_type": "code",
      "metadata": {
        "colab": {
          "base_uri": "https://localhost:8080/"
        },
        "id": "P2SQAVNzcqQZ",
        "outputId": "035abdf3-85dd-44dd-da51-3ed5040c0f50"
      },
      "source": [
        "list_num = [1,2,3,4,5,6,7]\r\n",
        "evens=0\r\n",
        "odds=0\r\n",
        "for i in list_num:\r\n",
        "  if i % 2 == 0:\r\n",
        "    evens += 1\r\n",
        "  else:\r\n",
        "    odds += 1\r\n",
        "\r\n",
        "print(evens, odds)"
      ],
      "execution_count": null,
      "outputs": [
        {
          "output_type": "stream",
          "text": [
            "3 4\n"
          ],
          "name": "stdout"
        }
      ]
    },
    {
      "cell_type": "code",
      "metadata": {
        "colab": {
          "base_uri": "https://localhost:8080/"
        },
        "id": "pBayAxEVeKO8",
        "outputId": "ffbbc636-eda7-43ce-ef04-ffc77b4c8fc3"
      },
      "source": [
        "for i in range(10):\r\n",
        "  print(str(i)*i)"
      ],
      "execution_count": null,
      "outputs": [
        {
          "output_type": "stream",
          "text": [
            "\n",
            "1\n",
            "22\n",
            "333\n",
            "4444\n",
            "55555\n",
            "666666\n",
            "7777777\n",
            "88888888\n",
            "999999999\n"
          ],
          "name": "stdout"
        }
      ]
    },
    {
      "cell_type": "code",
      "metadata": {
        "colab": {
          "base_uri": "https://localhost:8080/"
        },
        "id": "uSaTveIJgVLv",
        "outputId": "4c371d68-6d5c-4668-a163-c36b8282fa0d"
      },
      "source": [
        "sum(range(1,75))"
      ],
      "execution_count": null,
      "outputs": [
        {
          "output_type": "execute_result",
          "data": {
            "text/plain": [
              "2775"
            ]
          },
          "metadata": {
            "tags": []
          },
          "execution_count": 13
        }
      ]
    },
    {
      "cell_type": "code",
      "metadata": {
        "colab": {
          "base_uri": "https://localhost:8080/"
        },
        "id": "hK2xpP7AiDER",
        "outputId": "93b58d93-3e1a-4646-a2ae-29976c8e0517"
      },
      "source": [
        "sum_num = 0\r\n",
        "for i in range(1, 75):\r\n",
        "     sum_num += i\r\n",
        "print(sum_num)"
      ],
      "execution_count": null,
      "outputs": [
        {
          "output_type": "stream",
          "text": [
            "2775\n"
          ],
          "name": "stdout"
        }
      ]
    },
    {
      "cell_type": "code",
      "metadata": {
        "id": "WgI-P3qbiV28",
        "colab": {
          "base_uri": "https://localhost:8080/"
        },
        "outputId": "e4fd308c-845a-4389-839e-e54a603df906"
      },
      "source": [
        "groc = [\"bread\", \"water\", \"olive\"]\r\n",
        "enum_gro = enumerate(groc)\r\n",
        "print(type(enum_gro))\r\n",
        "print(list(enum_gro))\r\n",
        "print(list(enumerate(groc, start=10)))"
      ],
      "execution_count": null,
      "outputs": [
        {
          "output_type": "stream",
          "text": [
            "<class 'enumerate'>\n",
            "[(0, 'bread'), (1, 'water'), (2, 'olive')]\n",
            "[(10, 'bread'), (11, 'water'), (12, 'olive')]\n"
          ],
          "name": "stdout"
        }
      ]
    },
    {
      "cell_type": "code",
      "metadata": {
        "id": "-GnsObnDirBO",
        "colab": {
          "base_uri": "https://localhost:8080/"
        },
        "outputId": "e5d04b2f-c17d-4e0c-deee-7be1c97f2aba"
      },
      "source": [
        "print(round(3.665, 2))\r\n",
        "print(round(3.675, 2))"
      ],
      "execution_count": null,
      "outputs": [
        {
          "output_type": "stream",
          "text": [
            "3.67\n",
            "3.67\n"
          ],
          "name": "stdout"
        }
      ]
    },
    {
      "cell_type": "code",
      "metadata": {
        "id": "RPlJ5k_SNhzK"
      },
      "source": [
        ""
      ],
      "execution_count": null,
      "outputs": []
    }
  ]
}