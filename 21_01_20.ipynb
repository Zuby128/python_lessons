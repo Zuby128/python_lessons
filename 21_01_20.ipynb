{
  "nbformat": 4,
  "nbformat_minor": 0,
  "metadata": {
    "colab": {
      "name": "21/01/20.ipynb",
      "provenance": [],
      "collapsed_sections": [],
      "authorship_tag": "ABX9TyM9oyDg1lJH7myDvvPB9lyO",
      "include_colab_link": true
    },
    "kernelspec": {
      "name": "python3",
      "display_name": "Python 3"
    }
  },
  "cells": [
    {
      "cell_type": "markdown",
      "metadata": {
        "id": "view-in-github",
        "colab_type": "text"
      },
      "source": [
        "<a href=\"https://colab.research.google.com/github/Zuby128/python_lessons/blob/main/21_01_20.ipynb\" target=\"_parent\"><img src=\"https://colab.research.google.com/assets/colab-badge.svg\" alt=\"Open In Colab\"/></a>"
      ]
    },
    {
      "cell_type": "code",
      "metadata": {
        "colab": {
          "base_uri": "https://localhost:8080/"
        },
        "id": "x4LpHFQeIIm9",
        "outputId": "e9ec21cc-c609-42e4-9e68-79662d02e50c"
      },
      "source": [
        "letters = ['a', 'b', 'd', 'e', 'i', 'j', 'x', 't']\r\n",
        "\r\n",
        "def vowels(a):\r\n",
        "  if a in list(\"aeiouıöü\"):\r\n",
        "    return True\r\n",
        "  else:\r\n",
        "    return False\r\n",
        "\r\n",
        "x = filter(vowels, letters)  # when using filter function we have define a True/False function\r\n",
        "print(list(x))"
      ],
      "execution_count": null,
      "outputs": [
        {
          "output_type": "stream",
          "text": [
            "['a', 'e', 'i']\n"
          ],
          "name": "stdout"
        }
      ]
    },
    {
      "cell_type": "code",
      "metadata": {
        "colab": {
          "base_uri": "https://localhost:8080/"
        },
        "id": "PffMElRyPP8b",
        "outputId": "33401233-02dc-4e43-e14a-fd222616151d"
      },
      "source": [
        "letter = input(\"enter letter: \")\r\n",
        "A = []\r\n",
        "[A.append(i) for i in list(\"aeiouöüı\") if i in letter]\r\n",
        "print(A)"
      ],
      "execution_count": null,
      "outputs": [
        {
          "output_type": "stream",
          "text": [
            "enter letter: some kind of letters\n",
            "['e', 'i', 'o']\n"
          ],
          "name": "stdout"
        }
      ]
    },
    {
      "cell_type": "code",
      "metadata": {
        "colab": {
          "base_uri": "https://localhost:8080/"
        },
        "id": "lOK2MPQ4TFqo",
        "outputId": "b13244c1-a2e0-420d-8c49-a905d384c4b4"
      },
      "source": [
        "def texter(a, b, c):\r\n",
        "  print(b, c, a)\r\n",
        "\r\n",
        "a = \"i\"\r\n",
        "b = \"love\"\r\n",
        "c = \"you\"\r\n",
        "\r\n",
        "texter(c, a, b)"
      ],
      "execution_count": null,
      "outputs": [
        {
          "output_type": "stream",
          "text": [
            "i love you\n"
          ],
          "name": "stdout"
        }
      ]
    },
    {
      "cell_type": "code",
      "metadata": {
        "colab": {
          "base_uri": "https://localhost:8080/"
        },
        "id": "bTa_1rEdWZjI",
        "outputId": "041055bc-20e4-47db-ad2c-7e0d8cafafe1"
      },
      "source": [
        "def foo():\r\n",
        "    print(\"Hello from within foo\")  # print does not interact with 10* and not changed\r\n",
        "    return 2\r\n",
        "def bar():\r\n",
        "    return 10*foo()\r\n",
        "print(foo())\r\n",
        "print(bar())\r\n"
      ],
      "execution_count": null,
      "outputs": [
        {
          "output_type": "stream",
          "text": [
            "Hello from within foo\n",
            "2\n",
            "Hello from within foo\n",
            "20\n"
          ],
          "name": "stdout"
        }
      ]
    },
    {
      "cell_type": "code",
      "metadata": {
        "id": "yIFb_EvcWgNi"
      },
      "source": [
        ""
      ],
      "execution_count": null,
      "outputs": []
    }
  ]
}