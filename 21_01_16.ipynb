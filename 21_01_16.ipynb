{
  "nbformat": 4,
  "nbformat_minor": 0,
  "metadata": {
    "colab": {
      "name": "21/01/16.ipynb",
      "provenance": [],
      "collapsed_sections": [],
      "authorship_tag": "ABX9TyNj0gFBJ446GIqqnmLYweHg",
      "include_colab_link": true
    },
    "kernelspec": {
      "name": "python3",
      "display_name": "Python 3"
    }
  },
  "cells": [
    {
      "cell_type": "markdown",
      "metadata": {
        "id": "view-in-github",
        "colab_type": "text"
      },
      "source": [
        "<a href=\"https://colab.research.google.com/github/Zuby128/python_lessons/blob/main/21_01_16.ipynb\" target=\"_parent\"><img src=\"https://colab.research.google.com/assets/colab-badge.svg\" alt=\"Open In Colab\"/></a>"
      ]
    },
    {
      "cell_type": "code",
      "metadata": {
        "colab": {
          "base_uri": "https://localhost:8080/"
        },
        "id": "ET7-hb6F59Mo",
        "outputId": "b7627bce-1a36-47cd-845f-07a24d8c5d3d"
      },
      "source": [
        "sentence = input(\"sentence: \")\r\n",
        "words = sentence.split()\r\n",
        "longest = 0\r\n",
        "i = 0\r\n",
        "while i < len(words):\r\n",
        "  if len(words[i]) > longest:\r\n",
        "    longest = len(words[i])\r\n",
        "  i += 1\r\n",
        "\r\n",
        "print(longest)"
      ],
      "execution_count": null,
      "outputs": [
        {
          "output_type": "stream",
          "text": [
            "sentence: ali ata bindi gitmeye çalışıyor\n",
            "9\n"
          ],
          "name": "stdout"
        }
      ]
    },
    {
      "cell_type": "code",
      "metadata": {
        "colab": {
          "base_uri": "https://localhost:8080/"
        },
        "id": "DUs4M_PA-wry",
        "outputId": "d9440a4c-5c2d-442f-fdd3-c6f91aeaef31"
      },
      "source": [
        "names = [\"ahmet\", \"aisha\", \"adam\", \"joseph\", \"gabriel\"]\r\n",
        "for i in names:\r\n",
        "  print(f\"hello {i}\")"
      ],
      "execution_count": null,
      "outputs": [
        {
          "output_type": "stream",
          "text": [
            "hello ahmet\n",
            "hello aisha\n",
            "hello adam\n",
            "hello joseph\n",
            "hello gabriel\n"
          ],
          "name": "stdout"
        }
      ]
    },
    {
      "cell_type": "code",
      "metadata": {
        "colab": {
          "base_uri": "https://localhost:8080/"
        },
        "id": "A9q3Zp8qDFEe",
        "outputId": "03d8d754-1f5b-49c1-80f7-7f66dd7c7d9c"
      },
      "source": [
        "word = input(\"enter a word: \")\r\n",
        "seperated = []\r\n",
        "for i in word:\r\n",
        "  seperated.append(i)\r\n",
        "seperated=\"-\".join(seperated)\r\n",
        "print(seperated)"
      ],
      "execution_count": null,
      "outputs": [
        {
          "output_type": "stream",
          "text": [
            "enter a word: world\n",
            "w-o-r-l-d\n"
          ],
          "name": "stdout"
        }
      ]
    },
    {
      "cell_type": "code",
      "metadata": {
        "colab": {
          "base_uri": "https://localhost:8080/"
        },
        "id": "kE1YY1JAGnAW",
        "outputId": "cc602f9c-9619-4327-b95f-12df2515956c"
      },
      "source": [
        "word = input(\"enter a word: \")\r\n",
        "count = 0\r\n",
        "for i in word:\r\n",
        "  count += 1\r\n",
        "  if count < len(word):\r\n",
        "    i = i + \"-\"\r\n",
        "  print(i, end=\"\")"
      ],
      "execution_count": null,
      "outputs": [
        {
          "output_type": "stream",
          "text": [
            "enter a word: world\n",
            "w-o-r-l-d"
          ],
          "name": "stdout"
        }
      ]
    },
    {
      "cell_type": "code",
      "metadata": {
        "colab": {
          "base_uri": "https://localhost:8080/"
        },
        "id": "RfbUYlYsTy6u",
        "outputId": "02b984f4-131e-4113-b1d3-a2d3995f8618"
      },
      "source": [
        "n=int(input(\"number: \"))\r\n",
        "for i in range(11):\r\n",
        "  print(f\"{i} X {n} = {n*i}\")"
      ],
      "execution_count": null,
      "outputs": [
        {
          "output_type": "stream",
          "text": [
            "number: 6\n",
            "0X6=0\n",
            "1X6=6\n",
            "2X6=12\n",
            "3X6=18\n",
            "4X6=24\n",
            "5X6=30\n",
            "6X6=36\n",
            "7X6=42\n",
            "8X6=48\n",
            "9X6=54\n",
            "10X6=60\n"
          ],
          "name": "stdout"
        }
      ]
    },
    {
      "cell_type": "code",
      "metadata": {
        "id": "aA_5uo2DTz18",
        "colab": {
          "base_uri": "https://localhost:8080/"
        },
        "outputId": "379a897c-650b-42f0-8cf5-b3881bd7b765"
      },
      "source": [
        "print(*range(11))"
      ],
      "execution_count": null,
      "outputs": [
        {
          "output_type": "stream",
          "text": [
            "0 1 2 3 4 5 6 7 8 9 10\n"
          ],
          "name": "stdout"
        }
      ]
    },
    {
      "cell_type": "code",
      "metadata": {
        "colab": {
          "base_uri": "https://localhost:8080/"
        },
        "id": "p7eGOxxTosCF",
        "outputId": "3939d984-f40a-409a-917a-0434d3773cc8"
      },
      "source": [
        "text = [\"one\", \"two\", \"three\", \"four\", \"five\"]\r\n",
        "numbers = [1,2,3,4,5]\r\n",
        "for x, y in zip(text, numbers):\r\n",
        "  print(x, \":\", y)"
      ],
      "execution_count": null,
      "outputs": [
        {
          "output_type": "stream",
          "text": [
            "one : 1\n",
            "two : 2\n",
            "three : 3\n",
            "four : 4\n",
            "five : 5\n"
          ],
          "name": "stdout"
        }
      ]
    },
    {
      "cell_type": "code",
      "metadata": {
        "colab": {
          "base_uri": "https://localhost:8080/"
        },
        "id": "HD4OCKk7rVT0",
        "outputId": "22042f44-4798-473d-a736-6cbe71e05417"
      },
      "source": [
        "text = [\"one\", \"two\", \"three\", \"four\", \"five\"]\r\n",
        "numbers = [1,2,3,4,5]\r\n",
        "print(zip(text, numbers))\r\n",
        "print(*zip(text, numbers))  # bu genelde çalışan bir yöntem\r\n",
        "print(list(zip(text, numbers)))  # ya da list vb kullan \r\n",
        "print(*zip(text, numbers))  # ya da for loop kullan"
      ],
      "execution_count": null,
      "outputs": [
        {
          "output_type": "stream",
          "text": [
            "<zip object at 0x7f6995847648>\n",
            "('one', 1) ('two', 2) ('three', 3) ('four', 4) ('five', 5)\n",
            "[('one', 1), ('two', 2), ('three', 3), ('four', 4), ('five', 5)]\n",
            "('one', 1) ('two', 2) ('three', 3) ('four', 4) ('five', 5)\n"
          ],
          "name": "stdout"
        }
      ]
    },
    {
      "cell_type": "code",
      "metadata": {
        "colab": {
          "base_uri": "https://localhost:8080/"
        },
        "id": "932FdaTfs0OD",
        "outputId": "3cf46444-54dd-40eb-d236-b561364ac3b3"
      },
      "source": [
        "evens = []\r\n",
        "odds = []\r\n",
        "for i in range(0,11):\r\n",
        "  if i % 2 == 0:\r\n",
        "    evens.append(i)\r\n",
        "  else:\r\n",
        "    odds.append(i)\r\n",
        "\r\n",
        "print(evens)\r\n",
        "print(odds)"
      ],
      "execution_count": null,
      "outputs": [
        {
          "output_type": "stream",
          "text": [
            "[1, 3, 5, 7, 9]\n",
            "[0, 2, 4, 6, 8, 10]\n"
          ],
          "name": "stdout"
        }
      ]
    },
    {
      "cell_type": "code",
      "metadata": {
        "id": "kjQl5jExuLYo"
      },
      "source": [
        "5 == \"5\"\r\n",
        "try:\r\n"
      ],
      "execution_count": null,
      "outputs": []
    }
  ]
}