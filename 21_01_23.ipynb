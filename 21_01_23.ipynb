{
  "nbformat": 4,
  "nbformat_minor": 0,
  "metadata": {
    "colab": {
      "name": "21/01/23.ipynb",
      "provenance": [],
      "collapsed_sections": [],
      "authorship_tag": "ABX9TyPUwthg/cDvMRJL67feAUpD",
      "include_colab_link": true
    },
    "kernelspec": {
      "name": "python3",
      "display_name": "Python 3"
    }
  },
  "cells": [
    {
      "cell_type": "markdown",
      "metadata": {
        "id": "view-in-github",
        "colab_type": "text"
      },
      "source": [
        "<a href=\"https://colab.research.google.com/github/Zuby128/python_lessons/blob/main/21_01_23.ipynb\" target=\"_parent\"><img src=\"https://colab.research.google.com/assets/colab-badge.svg\" alt=\"Open In Colab\"/></a>"
      ]
    },
    {
      "cell_type": "code",
      "metadata": {
        "colab": {
          "base_uri": "https://localhost:8080/"
        },
        "id": "Lbok6RVc4kKH",
        "outputId": "287e1083-fc2e-48a3-eda7-c4f64cdc58dc"
      },
      "source": [
        "def organizer(**kwargs):\r\n",
        "  ages=[]\r\n",
        "  names=[]\r\n",
        "  for key, value in kwargs.items():\r\n",
        "    names.append(key)\r\n",
        "    ages.append(value)\r\n",
        "  print(names, \"\\n\", ages)\r\n",
        "\r\n",
        "organizer(a=\"3\", b=\"2\")"
      ],
      "execution_count": null,
      "outputs": [
        {
          "output_type": "stream",
          "text": [
            "['a', 'b'] \n",
            " ['3', '2']\n"
          ],
          "name": "stdout"
        }
      ]
    },
    {
      "cell_type": "code",
      "metadata": {
        "colab": {
          "base_uri": "https://localhost:8080/"
        },
        "id": "6YuEbsDVFbss",
        "outputId": "02033373-ed21-4975-8ad7-537361ccfd26"
      },
      "source": [
        "def merger(arg1, arg2, arg3, arg4):\r\n",
        "  print(f\"for me, {arg3}, {arg1}, {arg2} and {arg4} are geniuses\")\r\n",
        "\r\n",
        "genius=(\"a\", \"b\", \"c\", \"d\")\r\n",
        "merger(*genius)"
      ],
      "execution_count": null,
      "outputs": [
        {
          "output_type": "stream",
          "text": [
            "for me, c, a, b and d are geniuses\n"
          ],
          "name": "stdout"
        }
      ]
    },
    {
      "cell_type": "code",
      "metadata": {
        "colab": {
          "base_uri": "https://localhost:8080/"
        },
        "id": "jDvsQ57WQpfv",
        "outputId": "ea712ea3-2291-4947-8170-c68411c5a552"
      },
      "source": [
        "def meaner(a,b,c):\r\n",
        "  print(f\"avarege of {a}, {b} and {c}'s ages is {(a+b+c)/3}\")\r\n",
        "\r\n",
        "friends = {\"a\":40, \"b\":30, \"c\":50}\r\n",
        "meaner(**friends)"
      ],
      "execution_count": null,
      "outputs": [
        {
          "output_type": "stream",
          "text": [
            "avarege of 40, 30 and 50's ages is 40.0\n"
          ],
          "name": "stdout"
        }
      ]
    },
    {
      "cell_type": "code",
      "metadata": {
        "colab": {
          "base_uri": "https://localhost:8080/"
        },
        "id": "lCblDHNqTt_V",
        "outputId": "e3ffae9c-ebe5-4d62-8a50-cfb19831059f"
      },
      "source": [
        "def meaner(a,b,c):\r\n",
        "  print(f\"avarege of {a}, {b} and {c}'s ages is {sum([a,b,c])/3}\")  # sum() takes one or two parameters\r\n",
        "\r\n",
        "friends = {\"a\":40, \"b\":30, \"c\":50}\r\n",
        "meaner(**friends)"
      ],
      "execution_count": null,
      "outputs": [
        {
          "output_type": "stream",
          "text": [
            "avarege of 40, 30 and 50's ages is 40.0\n"
          ],
          "name": "stdout"
        }
      ]
    },
    {
      "cell_type": "code",
      "metadata": {
        "colab": {
          "base_uri": "https://localhost:8080/"
        },
        "id": "cWD9EkvqTuz5",
        "outputId": "361fbc5b-b409-444f-87bd-ad54876f7c37"
      },
      "source": [
        "condition = True\r\n",
        "if condition:\r\n",
        "  a=1\r\n",
        "else:\r\n",
        "  a=0\r\n",
        "print(a)\r\n",
        "\r\n",
        "x = 1 if condition else 0\r\n",
        "print(x)"
      ],
      "execution_count": null,
      "outputs": [
        {
          "output_type": "stream",
          "text": [
            "1\n",
            "1\n"
          ],
          "name": "stdout"
        }
      ]
    },
    {
      "cell_type": "code",
      "metadata": {
        "colab": {
          "base_uri": "https://localhost:8080/"
        },
        "id": "ElrStvm3XH7k",
        "outputId": "cc0092c8-35f7-45ad-cc9d-867af286b0fb"
      },
      "source": [
        "lambda x: \"odd\" if x % 2 != 0 else \"even\""
      ],
      "execution_count": null,
      "outputs": [
        {
          "output_type": "execute_result",
          "data": {
            "text/plain": [
              "<function __main__.<lambda>>"
            ]
          },
          "metadata": {
            "tags": []
          },
          "execution_count": 16
        }
      ]
    },
    {
      "cell_type": "code",
      "metadata": {
        "colab": {
          "base_uri": "https://localhost:8080/"
        },
        "id": "tjQ6jcyktaha",
        "outputId": "d89561b8-8450-48ea-d4f6-71f9d2178656"
      },
      "source": [
        "print((lambda x: x[::-1])(\"clarusway\"))"
      ],
      "execution_count": null,
      "outputs": [
        {
          "output_type": "stream",
          "text": [
            "yawsuralc\n"
          ],
          "name": "stdout"
        }
      ]
    },
    {
      "cell_type": "code",
      "metadata": {
        "id": "Ocws5VnYwsoY"
      },
      "source": [
        "for i in range(6):\r\n",
        "  i = (lambda x: \"odd\" if x % 2 != 0 else \"even\")"
      ],
      "execution_count": null,
      "outputs": []
    },
    {
      "cell_type": "code",
      "metadata": {
        "colab": {
          "base_uri": "https://localhost:8080/"
        },
        "id": "7Z1DamVtzcia",
        "outputId": "f44c97b8-2e03-4ce1-d5f8-f31652dc8c8b"
      },
      "source": [
        ""
      ],
      "execution_count": null,
      "outputs": [
        {
          "output_type": "stream",
          "text": [
            "<function <lambda> at 0x7f1ecd716c80>\n"
          ],
          "name": "stdout"
        }
      ]
    },
    {
      "cell_type": "code",
      "metadata": {
        "id": "7sOrZFzu057M"
      },
      "source": [
        ""
      ],
      "execution_count": null,
      "outputs": []
    }
  ]
}