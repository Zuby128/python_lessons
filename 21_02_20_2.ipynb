{
  "nbformat": 4,
  "nbformat_minor": 0,
  "metadata": {
    "colab": {
      "name": "21/02/20/2.ipynb",
      "provenance": [],
      "collapsed_sections": [],
      "authorship_tag": "ABX9TyPUxqVWCm7cg78jGssofzWz",
      "include_colab_link": true
    },
    "kernelspec": {
      "name": "python3",
      "display_name": "Python 3"
    }
  },
  "cells": [
    {
      "cell_type": "markdown",
      "metadata": {
        "id": "view-in-github",
        "colab_type": "text"
      },
      "source": [
        "<a href=\"https://colab.research.google.com/github/Zuby128/python_lessons/blob/main/21_02_20_2.ipynb\" target=\"_parent\"><img src=\"https://colab.research.google.com/assets/colab-badge.svg\" alt=\"Open In Colab\"/></a>"
      ]
    },
    {
      "cell_type": "code",
      "metadata": {
        "colab": {
          "base_uri": "https://localhost:8080/"
        },
        "id": "3eJHBV4tzqRL",
        "outputId": "e07550e6-292e-4caf-a01d-ec7ef3dadc75"
      },
      "source": [
        "n = 3\r\n",
        "comb = [\"()\"]\r\n",
        "c = 1\r\n",
        "while c < n:\r\n",
        "  comb = list(set([i[:j]+\"()\"+i[j:] for i in comb for j in range(len(i))] if n != 0 else \"\"))\r\n",
        "  c += 1\r\n",
        "\r\n",
        "if n == 0: comb = [\"\"]\r\n",
        "\r\n",
        "comb"
      ],
      "execution_count": null,
      "outputs": [
        {
          "output_type": "execute_result",
          "data": {
            "text/plain": [
              "['((()))', '()()()', '(()())', '(())()', '()(())']"
            ]
          },
          "metadata": {
            "tags": []
          },
          "execution_count": 4
        }
      ]
    },
    {
      "cell_type": "code",
      "metadata": {
        "id": "hq-M63mc2rIW"
      },
      "source": [
        "strs = [\"eat\", \"tea\", \"tan\", \"ate\", \"nat\", \"bat\"]\r\n",
        "\r\n",
        "# [[\"eat\", \"aet\", \"tea\"], [\"tan\", \"nat\"], [\"bat\"]]"
      ],
      "execution_count": null,
      "outputs": []
    },
    {
      "cell_type": "code",
      "metadata": {
        "id": "pCOptN5z5Up9"
      },
      "source": [
        "anag = {}"
      ],
      "execution_count": null,
      "outputs": []
    },
    {
      "cell_type": "code",
      "metadata": {
        "colab": {
          "base_uri": "https://localhost:8080/"
        },
        "id": "8uXowRpf5nwS",
        "outputId": "4eabd357-a956-4c58-e3f5-d96e1e53bc90"
      },
      "source": [
        "for i in strs:\r\n",
        "  element = \"\".join(sorted(i))\r\n",
        "  if element in anag:\r\n",
        "    anag[element].append(i)\r\n",
        "  else:\r\n",
        "    anag[element] = [i]\r\n",
        "\r\n",
        "print(list(anag.values()))"
      ],
      "execution_count": null,
      "outputs": [
        {
          "output_type": "stream",
          "text": [
            "[['eat', 'tea', 'ate'], ['tan', 'nat'], ['bat']]\n"
          ],
          "name": "stdout"
        }
      ]
    },
    {
      "cell_type": "code",
      "metadata": {
        "id": "tFJw-CId86qm"
      },
      "source": [
        "nn_list = [\"cat\", 1, 2]"
      ],
      "execution_count": null,
      "outputs": []
    },
    {
      "cell_type": "code",
      "metadata": {
        "id": "Dh9H-H_A9-1Y"
      },
      "source": [
        "new_list = nn_list.copy()"
      ],
      "execution_count": null,
      "outputs": []
    },
    {
      "cell_type": "code",
      "metadata": {
        "colab": {
          "base_uri": "https://localhost:8080/"
        },
        "id": "f2iKuYpO-D1x",
        "outputId": "6bdf0ec0-8b92-43a1-d0a4-1a4551b71664"
      },
      "source": [
        "nn_list"
      ],
      "execution_count": null,
      "outputs": [
        {
          "output_type": "execute_result",
          "data": {
            "text/plain": [
              "['cat', 1, 2]"
            ]
          },
          "metadata": {
            "tags": []
          },
          "execution_count": 24
        }
      ]
    },
    {
      "cell_type": "code",
      "metadata": {
        "colab": {
          "base_uri": "https://localhost:8080/"
        },
        "id": "kqdHRxL5-FqX",
        "outputId": "6ed21dc6-a603-40b0-ce47-df2ae54e9a79"
      },
      "source": [
        "new_list"
      ],
      "execution_count": null,
      "outputs": [
        {
          "output_type": "execute_result",
          "data": {
            "text/plain": [
              "['cat', 1, 2]"
            ]
          },
          "metadata": {
            "tags": []
          },
          "execution_count": 25
        }
      ]
    },
    {
      "cell_type": "code",
      "metadata": {
        "id": "5F_ZksBO-GsG"
      },
      "source": [
        "new_list.append(\"dog\")"
      ],
      "execution_count": null,
      "outputs": []
    },
    {
      "cell_type": "code",
      "metadata": {
        "colab": {
          "base_uri": "https://localhost:8080/"
        },
        "id": "TjIEb6Du-MWb",
        "outputId": "7891b54d-7f3e-403c-8998-be221913d3bb"
      },
      "source": [
        "print(nn_list)\r\n",
        "print(new_list)"
      ],
      "execution_count": null,
      "outputs": [
        {
          "output_type": "stream",
          "text": [
            "['cat', 1, 2]\n",
            "['cat', 1, 2, 'dog']\n"
          ],
          "name": "stdout"
        }
      ]
    },
    {
      "cell_type": "code",
      "metadata": {
        "id": "jl3odPbG-Rdg"
      },
      "source": [
        "language = [\"french\", \"english\", \"turkish\"]"
      ],
      "execution_count": null,
      "outputs": []
    },
    {
      "cell_type": "code",
      "metadata": {
        "id": "iaSqC1J1-gW2"
      },
      "source": [
        "language1 = [\"spanish\", \"arabic\"]"
      ],
      "execution_count": null,
      "outputs": []
    },
    {
      "cell_type": "code",
      "metadata": {
        "id": "yISrrfTH-mvh"
      },
      "source": [
        "language.extend(language1)"
      ],
      "execution_count": null,
      "outputs": []
    },
    {
      "cell_type": "code",
      "metadata": {
        "colab": {
          "base_uri": "https://localhost:8080/"
        },
        "id": "_SJgd3yU-qP4",
        "outputId": "c5284e3f-4126-40bd-dc78-8dd480a53bfc"
      },
      "source": [
        "language"
      ],
      "execution_count": null,
      "outputs": [
        {
          "output_type": "execute_result",
          "data": {
            "text/plain": [
              "['french', 'english', 'turkish', 'spanish', 'arabic']"
            ]
          },
          "metadata": {
            "tags": []
          },
          "execution_count": 31
        }
      ]
    },
    {
      "cell_type": "code",
      "metadata": {
        "colab": {
          "base_uri": "https://localhost:8080/"
        },
        "id": "GWpPVb-J-rMH",
        "outputId": "8f9df4f1-38ef-4d4f-b83e-732b3a4bfe51"
      },
      "source": [
        "language_tuple = (\"a\", \"b\")\r\n",
        "language_set = {\"e\", \"t\"}\r\n",
        "language.extend(language_tuple)\r\n",
        "language.extend(language_set)\r\n",
        "print(language)"
      ],
      "execution_count": null,
      "outputs": [
        {
          "output_type": "stream",
          "text": [
            "['french', 'english', 'turkish', 'spanish', 'arabic', 'a', 'b', 'e', 't']\n"
          ],
          "name": "stdout"
        }
      ]
    },
    {
      "cell_type": "code",
      "metadata": {
        "id": "qSC3me1d_OYN"
      },
      "source": [
        "program = [\"a\", \"b\", \"c\", \"d\", \"e\"]"
      ],
      "execution_count": null,
      "outputs": []
    },
    {
      "cell_type": "code",
      "metadata": {
        "colab": {
          "base_uri": "https://localhost:8080/"
        },
        "id": "PIocYTVL_v6j",
        "outputId": "fcec1d13-671c-428f-9b93-08f298f7bb36"
      },
      "source": [
        "returned_val = program.pop(3)\r\n",
        "print(returned_val)\r\n",
        "print(program)"
      ],
      "execution_count": null,
      "outputs": [
        {
          "output_type": "stream",
          "text": [
            "d\n",
            "['a', 'b', 'c', 'e']\n"
          ],
          "name": "stdout"
        }
      ]
    },
    {
      "cell_type": "code",
      "metadata": {
        "colab": {
          "base_uri": "https://localhost:8080/"
        },
        "id": "Vpxdt_fo__ry",
        "outputId": "5e253e30-65ca-409e-c72f-00641813b2cc"
      },
      "source": [
        "program.pop()  # == pop(-1) son elementi siler\r\n",
        "program"
      ],
      "execution_count": null,
      "outputs": [
        {
          "output_type": "execute_result",
          "data": {
            "text/plain": [
              "['a', 'b', 'c']"
            ]
          },
          "metadata": {
            "tags": []
          },
          "execution_count": 35
        }
      ]
    },
    {
      "cell_type": "code",
      "metadata": {
        "id": "mm2OiSIUAQbb"
      },
      "source": [
        ""
      ],
      "execution_count": null,
      "outputs": []
    }
  ]
}