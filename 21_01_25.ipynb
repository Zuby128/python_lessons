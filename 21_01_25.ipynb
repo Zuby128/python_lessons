{
  "nbformat": 4,
  "nbformat_minor": 0,
  "metadata": {
    "colab": {
      "name": "21/01/25.ipynb",
      "provenance": [],
      "collapsed_sections": [],
      "authorship_tag": "ABX9TyOvpM/hJc3lj+MjWyQ0DJDi",
      "include_colab_link": true
    },
    "kernelspec": {
      "name": "python3",
      "display_name": "Python 3"
    }
  },
  "cells": [
    {
      "cell_type": "markdown",
      "metadata": {
        "id": "view-in-github",
        "colab_type": "text"
      },
      "source": [
        "<a href=\"https://colab.research.google.com/github/Zuby128/python_lessons/blob/main/21_01_25.ipynb\" target=\"_parent\"><img src=\"https://colab.research.google.com/assets/colab-badge.svg\" alt=\"Open In Colab\"/></a>"
      ]
    },
    {
      "cell_type": "code",
      "metadata": {
        "colab": {
          "base_uri": "https://localhost:8080/"
        },
        "id": "pXXER43kgBKt",
        "outputId": "0e77cadb-4893-4e24-9b16-270bd2fe74ae"
      },
      "source": [
        "for i in range(10):\r\n",
        "  print((lambda i: 'odd' if i % 2 != 0 else 'even')(i))"
      ],
      "execution_count": null,
      "outputs": [
        {
          "output_type": "stream",
          "text": [
            "even\n",
            "odd\n",
            "even\n",
            "odd\n",
            "even\n",
            "odd\n",
            "even\n",
            "odd\n",
            "even\n",
            "odd\n"
          ],
          "name": "stdout"
        }
      ]
    },
    {
      "cell_type": "code",
      "metadata": {
        "colab": {
          "base_uri": "https://localhost:8080/"
        },
        "id": "ftKj_IEEgU6b",
        "outputId": "9f50d4cd-0e3d-46a4-c567-9d66d50a7a63"
      },
      "source": [
        "for x in [1,2,3,4]:\r\n",
        "  print(x, \":\", (lambda y: \"odd\" if y % 2 != 0 else \"even\")(x))"
      ],
      "execution_count": null,
      "outputs": [
        {
          "output_type": "stream",
          "text": [
            "1 : odd\n",
            "2 : even\n",
            "3 : odd\n",
            "4 : even\n"
          ],
          "name": "stdout"
        }
      ]
    },
    {
      "cell_type": "code",
      "metadata": {
        "colab": {
          "base_uri": "https://localhost:8080/"
        },
        "id": "0aBz5emWibD1",
        "outputId": "a498ea8f-4dfe-4477-a812-45b9539a2874"
      },
      "source": [
        "function = lambda x, y: (x + y) / 2\r\n",
        "function(3,4)"
      ],
      "execution_count": null,
      "outputs": [
        {
          "output_type": "execute_result",
          "data": {
            "text/plain": [
              "3.5"
            ]
          },
          "metadata": {
            "tags": []
          },
          "execution_count": 8
        }
      ]
    },
    {
      "cell_type": "code",
      "metadata": {
        "colab": {
          "base_uri": "https://localhost:8080/"
        },
        "id": "dl0JSwfnkqgn",
        "outputId": "47c1e94f-b546-402a-a124-65aa38216bb9"
      },
      "source": [
        "(lambda x, y: (x + y) / 2)(4, 5)"
      ],
      "execution_count": null,
      "outputs": [
        {
          "output_type": "execute_result",
          "data": {
            "text/plain": [
              "4.5"
            ]
          },
          "metadata": {
            "tags": []
          },
          "execution_count": 9
        }
      ]
    },
    {
      "cell_type": "code",
      "metadata": {
        "colab": {
          "base_uri": "https://localhost:8080/",
          "height": 35
        },
        "id": "WFvCvrJNlJjF",
        "outputId": "9fa8cfa3-7017-4da9-de65-7676dc403264"
      },
      "source": [
        "func = lambda x: x[::-1]\r\n",
        "func(\"clarusway\")"
      ],
      "execution_count": null,
      "outputs": [
        {
          "output_type": "execute_result",
          "data": {
            "application/vnd.google.colaboratory.intrinsic+json": {
              "type": "string"
            },
            "text/plain": [
              "'yawsuralc'"
            ]
          },
          "metadata": {
            "tags": []
          },
          "execution_count": 10
        }
      ]
    },
    {
      "cell_type": "code",
      "metadata": {
        "colab": {
          "base_uri": "https://localhost:8080/"
        },
        "id": "8o6y72RPlWlO",
        "outputId": "95b571e6-8cb9-4c7e-ff15-02e9f22c5f9a"
      },
      "source": [
        "print(*map((lambda y: \"odd\" if y % 2 != 0 else \"even\"), [1,2,3,4]))"
      ],
      "execution_count": null,
      "outputs": [
        {
          "output_type": "stream",
          "text": [
            "odd even odd even\n"
          ],
          "name": "stdout"
        }
      ]
    },
    {
      "cell_type": "code",
      "metadata": {
        "colab": {
          "base_uri": "https://localhost:8080/"
        },
        "id": "9aSHyd0snJJL",
        "outputId": "086f4268-8bfc-49b7-e9f4-323eaf9ea217"
      },
      "source": [
        "def func(x):\r\n",
        "  return x**2\r\n",
        "\r\n",
        "a = map(func, range(5))\r\n",
        "print(list(a))"
      ],
      "execution_count": null,
      "outputs": [
        {
          "output_type": "stream",
          "text": [
            "[0, 1, 4, 9, 16]\n"
          ],
          "name": "stdout"
        }
      ]
    },
    {
      "cell_type": "code",
      "metadata": {
        "colab": {
          "base_uri": "https://localhost:8080/"
        },
        "id": "qdEzFyDFrk0W",
        "outputId": "cf30d749-a194-48f1-965b-06787325b7c4"
      },
      "source": [
        "a = [9,6,7,4]\r\n",
        "b=[3,6,5,8]\r\n",
        "print(list(map(lambda x,y: (x+y)/2, a, b)))"
      ],
      "execution_count": null,
      "outputs": [
        {
          "output_type": "stream",
          "text": [
            "[6.0, 6.0, 6.0, 6.0]\n"
          ],
          "name": "stdout"
        }
      ]
    },
    {
      "cell_type": "code",
      "metadata": {
        "colab": {
          "base_uri": "https://localhost:8080/"
        },
        "id": "_xvbFdI69KA8",
        "outputId": "a4328fd7-85d9-4d8c-eada-f04dacd037a1"
      },
      "source": [
        "print(list(map(lambda x,y,z: \" \".join((y, z, x)), [\"you\", \"much\", \"hard\"], [\"i\", \"you\", \"he\"], [\"love\", \"ate\", \"works\"])))"
      ],
      "execution_count": null,
      "outputs": [
        {
          "output_type": "stream",
          "text": [
            "['i love you', 'you ate much', 'he works hard']\n"
          ],
          "name": "stdout"
        }
      ]
    },
    {
      "cell_type": "code",
      "metadata": {
        "colab": {
          "base_uri": "https://localhost:8080/"
        },
        "id": "Mb-xs2d1_fRj",
        "outputId": "18c13b01-cc26-49b4-f790-0f4fc9ed8dbf"
      },
      "source": [
        "a=filter(lambda x: x<5, range(10))\r\n",
        "print(list(a))"
      ],
      "execution_count": null,
      "outputs": [
        {
          "output_type": "stream",
          "text": [
            "[0, 1, 2, 3, 4]\n",
            "\n"
          ],
          "name": "stdout"
        }
      ]
    },
    {
      "cell_type": "code",
      "metadata": {
        "colab": {
          "base_uri": "https://localhost:8080/"
        },
        "id": "tVRqFDO9CaR7",
        "outputId": "ae557393-b3a4-457d-92bf-12b2b01d36cf"
      },
      "source": [
        "a=filter(lambda x: len(x)<5, [\"apple\", \"swim\", \"clock\", \"me\", \"kiwi\", \"banana\"])\r\n",
        "for i in a:\r\n",
        "  print(i)"
      ],
      "execution_count": null,
      "outputs": [
        {
          "output_type": "stream",
          "text": [
            "swim\n",
            "me\n",
            "kiwi\n"
          ],
          "name": "stdout"
        }
      ]
    },
    {
      "cell_type": "code",
      "metadata": {
        "colab": {
          "base_uri": "https://localhost:8080/"
        },
        "id": "6sANOE6HFUGf",
        "outputId": "34a7ded5-657c-4912-e74e-3769dc9ec918"
      },
      "source": [
        "def mod_func(n):\r\n",
        "  return lambda x: x ** n\r\n",
        "\r\n",
        "pows = mod_func(2)\r\n",
        "print(pows(5))"
      ],
      "execution_count": null,
      "outputs": [
        {
          "output_type": "stream",
          "text": [
            "25\n"
          ],
          "name": "stdout"
        }
      ]
    },
    {
      "cell_type": "code",
      "metadata": {
        "colab": {
          "base_uri": "https://localhost:8080/"
        },
        "id": "R3oABrVxMwJy",
        "outputId": "c3ec494c-031a-4901-abd2-e519662ce460"
      },
      "source": [
        "def func(n):\r\n",
        "  return lambda x: print(x, n)\r\n",
        "\r\n",
        "sad = func(\":(\")\r\n",
        "happy = func(\":)\")\r\n",
        "neutral = func(\":|\")\r\n",
        "\r\n",
        "sad(\"am i sad?\")\r\n",
        "happy(\"am i happy?\")\r\n",
        "neutral(\"i am neutral\")\r\n",
        "\r\n"
      ],
      "execution_count": null,
      "outputs": [
        {
          "output_type": "stream",
          "text": [
            "am i sad? :(\n",
            "am i happy? :)\n",
            "i am neutral :|\n"
          ],
          "name": "stdout"
        }
      ]
    },
    {
      "cell_type": "code",
      "metadata": {
        "colab": {
          "base_uri": "https://localhost:8080/"
        },
        "id": "95IThsXrPZxt",
        "outputId": "cc646bfd-8b99-4fc6-ed8d-4a82caf75565"
      },
      "source": [
        "def func(n = None):\r\n",
        "  return lambda x: print(x, n)\r\n",
        "\r\n",
        "sad = func(\":(\")\r\n",
        "happy = func(\":)\")\r\n",
        "neutral = func(\":|\")\r\n",
        "\r\n",
        "sad(\"am i sad?\")\r\n",
        "happy(\"am i happy?\")\r\n",
        "neutral(\"i am neutral\")"
      ],
      "execution_count": null,
      "outputs": [
        {
          "output_type": "stream",
          "text": [
            "am i sad? :(\n",
            "am i happy? :)\n",
            "i am neutral :|\n"
          ],
          "name": "stdout"
        }
      ]
    },
    {
      "cell_type": "code",
      "metadata": {
        "id": "bCF8_sjjSi7b"
      },
      "source": [
        ""
      ],
      "execution_count": null,
      "outputs": []
    }
  ]
}