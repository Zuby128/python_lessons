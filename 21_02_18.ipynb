{
  "nbformat": 4,
  "nbformat_minor": 0,
  "metadata": {
    "colab": {
      "name": "21/02/18.ipynb",
      "provenance": [],
      "collapsed_sections": [],
      "authorship_tag": "ABX9TyOsK/hSTbhATHkaBPCIo3Nx",
      "include_colab_link": true
    },
    "kernelspec": {
      "name": "python3",
      "display_name": "Python 3"
    }
  },
  "cells": [
    {
      "cell_type": "markdown",
      "metadata": {
        "id": "view-in-github",
        "colab_type": "text"
      },
      "source": [
        "<a href=\"https://colab.research.google.com/github/Zuby128/python_lessons/blob/main/21_02_18.ipynb\" target=\"_parent\"><img src=\"https://colab.research.google.com/assets/colab-badge.svg\" alt=\"Open In Colab\"/></a>"
      ]
    },
    {
      "cell_type": "code",
      "metadata": {
        "id": "VChvOled3TZv"
      },
      "source": [
        "x = [([3], [4, 2], (1, 5, 6))]"
      ],
      "execution_count": null,
      "outputs": []
    },
    {
      "cell_type": "code",
      "metadata": {
        "id": "qbLfacyC3c3y"
      },
      "source": [
        "d={k:f\"{k**2}\" for i in x for j in i for k in j}"
      ],
      "execution_count": null,
      "outputs": []
    },
    {
      "cell_type": "code",
      "metadata": {
        "id": "olizwWI93e1w"
      },
      "source": [
        "c={}\r\n",
        "for i in x:\r\n",
        "  for j in i:\r\n",
        "    for k in j:\r\n",
        "      c[k]=f\"{k**2}\""
      ],
      "execution_count": null,
      "outputs": []
    },
    {
      "cell_type": "code",
      "metadata": {
        "colab": {
          "base_uri": "https://localhost:8080/"
        },
        "id": "7ppGknq23kRl",
        "outputId": "44dabb9d-cbb1-4f80-8044-1b657ea6f34c"
      },
      "source": [
        "print(d, \"\\n\", c)"
      ],
      "execution_count": null,
      "outputs": [
        {
          "output_type": "stream",
          "text": [
            "{3: '9', 4: '16', 2: '4', 1: '1', 5: '25', 6: '36'} \n",
            " {3: '9', 4: '16', 2: '4', 1: '1', 5: '25', 6: '36'}\n"
          ],
          "name": "stdout"
        }
      ]
    },
    {
      "cell_type": "code",
      "metadata": {
        "id": "4HD414sz3tM5",
        "colab": {
          "base_uri": "https://localhost:8080/"
        },
        "outputId": "01b4a1a7-db85-4046-cb03-bc8014ab5f62"
      },
      "source": [
        "n = 3\r\n",
        "left = \"(\"\r\n",
        "right = \")\"\r\n",
        "para_set = {\"()\"*n}\r\n",
        "for i in range(n):\r\n",
        "    para_set.add((((n-i)*left)+((n-i)*right) + (left+right) * i))\r\n",
        "    para_set.add((left+right) * i + (((n-i)*left)+((n-i)*right)))\r\n",
        "    para_set.add((i*left) + ((left+right) * (n-i)) + (i*right))\r\n",
        "#print(para_set)\r\n",
        "print(list(para_set))"
      ],
      "execution_count": null,
      "outputs": [
        {
          "output_type": "stream",
          "text": [
            "['()(())', '((()))', '(())()', '()()()', '(()())']\n"
          ],
          "name": "stdout"
        }
      ]
    },
    {
      "cell_type": "code",
      "metadata": {
        "colab": {
          "base_uri": "https://localhost:8080/"
        },
        "id": "qcjmMoU3PKte",
        "outputId": "782a2e1c-8a8d-4729-d3e3-8372b9c74ab6"
      },
      "source": [
        "class Solution(object):\r\n",
        "    def generateParenthesis(self, N):\r\n",
        "        ans = []\r\n",
        "        def backtrack(S = '', left = 0, right = 0):\r\n",
        "            if len(S) == 2 * N:\r\n",
        "                ans.append(S)\r\n",
        "                return\r\n",
        "            if left < N:\r\n",
        "                backtrack(S+'(', left+1, right)\r\n",
        "            if right < left:\r\n",
        "                backtrack(S+')', left, right+1)\r\n",
        "        backtrack()\r\n",
        "        return ans\r\n",
        "\r\n",
        "sas = Solution()\r\n",
        "print(sas.generateParenthesis(3))"
      ],
      "execution_count": null,
      "outputs": [
        {
          "output_type": "stream",
          "text": [
            "['((()))', '(()())', '(())()', '()(())', '()()()']\n"
          ],
          "name": "stdout"
        }
      ]
    },
    {
      "cell_type": "code",
      "metadata": {
        "colab": {
          "base_uri": "https://localhost:8080/"
        },
        "id": "xxPqBcsmPOc8",
        "outputId": "0f4be0c3-7760-4b42-c9ea-ab3414b20cc5"
      },
      "source": [
        "k= [1,2,3]\r\n",
        "# output->[[1,2,3], [1,3,2], [2,1,3], [2,3,1], [3,1,2], [3,2,1]]\r\n",
        "l=[[i]+[j] for i in k for j in k if i != j]\r\n",
        "[x.append(y) for x in l for y in k if y not in x]\r\n",
        "print(l)\r\n"
      ],
      "execution_count": null,
      "outputs": [
        {
          "output_type": "stream",
          "text": [
            "[[1, 2, 3], [1, 3, 2], [2, 1, 3], [2, 3, 1], [3, 1, 2], [3, 2, 1]]\n"
          ],
          "name": "stdout"
        }
      ]
    },
    {
      "cell_type": "code",
      "metadata": {
        "id": "hFVvY5LNQAte",
        "colab": {
          "base_uri": "https://localhost:8080/"
        },
        "outputId": "aeb7bb9f-6836-4474-b4cf-1f64c8c9d541"
      },
      "source": [
        "while True:\r\n",
        "  a=input(\"num1: \")\r\n",
        "  b=input(\"num2: \")\r\n",
        "  try:\r\n",
        "    d=float(a)/float(b)\r\n",
        "    print(d)\r\n",
        "    break\r\n",
        "  except ZeroDivisionError:  # ZeroDivErr olmasa da olur, hatanın adı olursa o olur\r\n",
        "    print(\"smt zero wrong please try again\")"
      ],
      "execution_count": null,
      "outputs": [
        {
          "output_type": "stream",
          "text": [
            "num1: 5\n",
            "num2: 1\n",
            "5.0\n"
          ],
          "name": "stdout"
        }
      ]
    },
    {
      "cell_type": "code",
      "metadata": {
        "colab": {
          "base_uri": "https://localhost:8080/"
        },
        "id": "3P9CR0ipIZvo",
        "outputId": "c7ba9d32-9dbb-4f69-b147-6262f990dc94"
      },
      "source": [
        "try:\r\n",
        "  with open(\"my_file.txt\", \"r\", encoding=\"utf-8\") as file:\r\n",
        "    print(file.read())\r\n",
        "except:\r\n",
        "  print(\"there is not such a file or the path is incorrect\") "
      ],
      "execution_count": null,
      "outputs": [
        {
          "output_type": "stream",
          "text": [
            "there is not such a file or the path is incorrect\n"
          ],
          "name": "stdout"
        }
      ]
    },
    {
      "cell_type": "code",
      "metadata": {
        "colab": {
          "base_uri": "https://localhost:8080/"
        },
        "id": "hdVp04aVKuTr",
        "outputId": "c1a389c8-dd41-44c7-8cae-b35a271a148c"
      },
      "source": [
        "try:\r\n",
        "  with open(\"my_file.txt\", \"r\", encoding=\"utf-8\") as file:\r\n",
        "    print(file.read())\r\n",
        "except FileNotFoundError:\r\n",
        "  print(\"there is not such a file or the path is incorrect\") \r\n"
      ],
      "execution_count": null,
      "outputs": [
        {
          "output_type": "stream",
          "text": [
            "there is not such a file or the path is incorrect\n"
          ],
          "name": "stdout"
        }
      ]
    },
    {
      "cell_type": "code",
      "metadata": {
        "colab": {
          "base_uri": "https://localhost:8080/"
        },
        "id": "Kt6kJpweLMyu",
        "outputId": "a097a576-bd1e-41ec-9c5f-39455d195240"
      },
      "source": [
        "try:\r\n",
        "  print(\"x\"+\"4\")\r\n",
        "except ValueError:\r\n",
        "  print(\"invalid value\")\r\n",
        "else:\r\n",
        "  print(\"there is no exception\")\r\n",
        "finally:\r\n",
        "  print(\"i excecute all time\")"
      ],
      "execution_count": null,
      "outputs": [
        {
          "output_type": "stream",
          "text": [
            "x4\n",
            "there is no exception\n",
            "i excecute all time\n"
          ],
          "name": "stdout"
        }
      ]
    },
    {
      "cell_type": "code",
      "metadata": {
        "colab": {
          "base_uri": "https://localhost:8080/"
        },
        "id": "I5S-ehIvOOeZ",
        "outputId": "1d7ed78d-e766-4471-9b95-244324987aeb"
      },
      "source": [
        "while True:\r\n",
        "  \r\n",
        "  try:\r\n",
        "    a=input(\"num1: \")\r\n",
        "    b=input(\"num2: \")\r\n",
        "    d=float(a)/float(b)\r\n",
        "  except ValueError:\r\n",
        "    print(\"smt value wrong please try again\")\r\n",
        "  except ZeroDivisionError:\r\n",
        "    print(\"smt zero wrong please try again\")\r\n",
        "  else:\r\n",
        "    print(d)\r\n",
        "    break\r\n",
        "  finally:\r\n",
        "    print(\"thanks come again\")"
      ],
      "execution_count": null,
      "outputs": [
        {
          "output_type": "stream",
          "text": [
            "num1: 5\n",
            "num2: t\n",
            "smt value wrong please try again\n",
            "thanks come again\n",
            "num1: 5\n",
            "num2: 0\n",
            "smt zero wrong please try again\n",
            "thanks come again\n",
            "num1: 7\n",
            "num2: 2\n",
            "3.5\n",
            "thanks come again\n"
          ],
          "name": "stdout"
        }
      ]
    },
    {
      "cell_type": "code",
      "metadata": {
        "colab": {
          "base_uri": "https://localhost:8080/"
        },
        "id": "EHQ3dwJKOzjg",
        "outputId": "530babf3-c877-4950-d5a1-fc792742020e"
      },
      "source": [
        "try:\r\n",
        "  4/0\r\n",
        "except Exception as jj:\r\n",
        "  print(jj)"
      ],
      "execution_count": null,
      "outputs": [
        {
          "output_type": "stream",
          "text": [
            "division by zero\n"
          ],
          "name": "stdout"
        }
      ]
    },
    {
      "cell_type": "code",
      "metadata": {
        "colab": {
          "base_uri": "https://localhost:8080/"
        },
        "id": "zjvggTwtSN9W",
        "outputId": "d2f2a97b-b5f8-4086-82d0-3d688b7e2115"
      },
      "source": [
        "try:\r\n",
        "  \"a\"+5\r\n",
        "except ZeroDivisionError:\r\n",
        "  print(\"u cant div a num by zero\")\r\n",
        "except ValueError:\r\n",
        "  print(\"use a valid value\")\r\n",
        "except:\r\n",
        "  print(\"smt goes wrong\") "
      ],
      "execution_count": null,
      "outputs": [
        {
          "output_type": "stream",
          "text": [
            "smt goes wrong\n"
          ],
          "name": "stdout"
        }
      ]
    },
    {
      "cell_type": "code",
      "metadata": {
        "id": "LqFqqnD8SdKR",
        "colab": {
          "base_uri": "https://localhost:8080/"
        },
        "outputId": "47ca3983-8625-4b61-febb-5ccb2e75ec4f"
      },
      "source": [
        "fruits=[\"banana\", \"mango\", \"pear\", \"apple\", \"kiwi\", \"grape\"]\r\n",
        "while True:\r\n",
        "  try:\r\n",
        "    a=int(input(\"enter a number: \"))\r\n",
        "    print(\"my favorite fruit is\", fruits[a])\r\n",
        "    break\r\n",
        "  except (ValueError, NameError, IndexError, TypeError):\r\n",
        "    print(\"smt wrong try again\")"
      ],
      "execution_count": null,
      "outputs": [
        {
          "output_type": "stream",
          "text": [
            "enter a number: 9\n",
            "smt wrong try again\n",
            "enter a number: f\n",
            "smt wrong try again\n",
            "enter a number: 5\n",
            "my favorite fruit is grape\n"
          ],
          "name": "stdout"
        }
      ]
    },
    {
      "cell_type": "code",
      "metadata": {
        "colab": {
          "base_uri": "https://localhost:8080/"
        },
        "id": "bByFAtIdlH0C",
        "outputId": "aa28f5f7-9a42-44a3-a7b8-eb88aa25d697"
      },
      "source": [
        "fruits=[\"banana\", \"mango\", \"pear\", \"apple\", \"kiwi\", \"grape\"]\r\n",
        "while True:\r\n",
        "  try:\r\n",
        "    a=int(input(\"enter a number: \"))\r\n",
        "    print(\"my favorite fruit is\", fruits[a])\r\n",
        "    break\r\n",
        "  except IndexError:\r\n",
        "    print(\"there is no such an index. try again\")\r\n",
        "  except ValueError:\r\n",
        "    print(\"please use an integer number. try again\")"
      ],
      "execution_count": null,
      "outputs": [
        {
          "output_type": "stream",
          "text": [
            "enter a number: 5\n",
            "my favorite fruit is grape\n"
          ],
          "name": "stdout"
        }
      ]
    },
    {
      "cell_type": "code",
      "metadata": {
        "colab": {
          "base_uri": "https://localhost:8080/"
        },
        "id": "TANqXOiCn2go",
        "outputId": "1935a6ee-89f1-4be4-d697-4a276c19a9ee"
      },
      "source": [
        "fruits=[\"banana\", \"mango\", \"pear\", \"apple\", \"kiwi\", \"grape\"]\r\n",
        "counter=3\r\n",
        "while counter>0:\r\n",
        "  try:\r\n",
        "    a=int(input(\"enter a number: \"))\r\n",
        "    print(\"my favorite fruit is\", fruits[a])\r\n",
        "    break\r\n",
        "  except:\r\n",
        "    print(\"smt wrong, try again\")\r\n",
        "    counter-=1\r\n",
        "  else:\r\n",
        "    print(\"congrats! you've entered a valid input.\")\r\n",
        "  finally:\r\n",
        "    print(\"our fruits are allways fresh!\")"
      ],
      "execution_count": null,
      "outputs": [
        {
          "output_type": "stream",
          "text": [
            "enter a number: 9\n",
            "smt wrong, try again\n",
            "our fruits are allways fresh!\n",
            "enter a number: l\n",
            "smt wrong, try again\n",
            "our fruits are allways fresh!\n",
            "enter a number: y\n",
            "smt wrong, try again\n",
            "our fruits are allways fresh!\n"
          ],
          "name": "stdout"
        }
      ]
    },
    {
      "cell_type": "code",
      "metadata": {
        "colab": {
          "base_uri": "https://localhost:8080/"
        },
        "id": "f-XVKB3Pq7sL",
        "outputId": "e6e803cb-2bd4-4132-8a2c-b7edd7eda522"
      },
      "source": [
        "counter = 3\r\n",
        "while counter > 0 :\r\n",
        "    try:\r\n",
        "        index = int(input(\"pick an index number :\"))\r\n",
        "        print(\"my favorite fruit is \", fruits[index])\r\n",
        "    except IndexError :\r\n",
        "        counter -= 1\r\n",
        "        print(f\"there is no such an index. You have {counter} right left\")\r\n",
        "    except ValueError :\r\n",
        "        counter -= 1\r\n",
        "        print(f\"you should use integer number. You have {counter} right left\")\r\n",
        "    else :\r\n",
        "        print(\"Congrats! You've entered a valid input.\")\r\n",
        "        break\r\n",
        "    finally :\r\n",
        "        print(\"Our fruits are always fresh!\")"
      ],
      "execution_count": null,
      "outputs": [
        {
          "output_type": "stream",
          "text": [
            "pick an index number :9\n",
            "there is no such an index. You have 2 right left\n",
            "Our fruits are always fresh!\n",
            "pick an index number :d\n",
            "you should use integer number. You have 1 right left\n",
            "Our fruits are always fresh!\n",
            "pick an index number :d\n",
            "you should use integer number. You have 0 right left\n",
            "Our fruits are always fresh!\n"
          ],
          "name": "stdout"
        }
      ]
    },
    {
      "cell_type": "code",
      "metadata": {
        "id": "YyZnAV-qwnbS"
      },
      "source": [
        "def my_factorial(n):\r\n",
        "  if n == 0:\r\n",
        "    return 1\r\n",
        "  else:\r\n",
        "    return n * my_factorial(n-1)"
      ],
      "execution_count": null,
      "outputs": []
    },
    {
      "cell_type": "code",
      "metadata": {
        "colab": {
          "base_uri": "https://localhost:8080/"
        },
        "id": "7_CAx4YxxKlF",
        "outputId": "3c2dd0f3-6584-4c3e-af14-ecf6bca2697a"
      },
      "source": [
        "my_factorial(5)"
      ],
      "execution_count": null,
      "outputs": [
        {
          "output_type": "execute_result",
          "data": {
            "text/plain": [
              "120"
            ]
          },
          "metadata": {
            "tags": []
          },
          "execution_count": 6
        }
      ]
    },
    {
      "cell_type": "code",
      "metadata": {
        "colab": {
          "base_uri": "https://localhost:8080/"
        },
        "id": "oxjBqv2pxM-_",
        "outputId": "fee19169-b971-4c3a-f31e-ea9c96311dc7"
      },
      "source": [
        "num = [1,2,3]\r\n",
        "\r\n",
        "num_set=set(num)\r\n",
        "\r\n",
        "solution=[[]]\r\n",
        "\r\n",
        "for index in range(len(num)):\r\n",
        "  solution=[i + [j] for i in solution for j in num_set.difference(set(i))]\r\n",
        "\r\n",
        "print(solution)"
      ],
      "execution_count": null,
      "outputs": [
        {
          "output_type": "stream",
          "text": [
            "[[1, 2, 3], [1, 3, 2], [2, 1, 3], [2, 3, 1], [3, 1, 2], [3, 2, 1]]\n"
          ],
          "name": "stdout"
        }
      ]
    },
    {
      "cell_type": "code",
      "metadata": {
        "id": "jBaERQ85xgvx"
      },
      "source": [
        ""
      ],
      "execution_count": null,
      "outputs": []
    }
  ]
}