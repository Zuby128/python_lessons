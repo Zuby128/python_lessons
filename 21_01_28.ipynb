{
  "nbformat": 4,
  "nbformat_minor": 0,
  "metadata": {
    "colab": {
      "name": "21/01/28.ipynb",
      "provenance": [],
      "collapsed_sections": [],
      "authorship_tag": "ABX9TyM7PhfhiLNwwXpssMdCT3UA",
      "include_colab_link": true
    },
    "kernelspec": {
      "name": "python3",
      "display_name": "Python 3"
    }
  },
  "cells": [
    {
      "cell_type": "markdown",
      "metadata": {
        "id": "view-in-github",
        "colab_type": "text"
      },
      "source": [
        "<a href=\"https://colab.research.google.com/github/Zuby128/python_lessons/blob/main/21_01_28.ipynb\" target=\"_parent\"><img src=\"https://colab.research.google.com/assets/colab-badge.svg\" alt=\"Open In Colab\"/></a>"
      ]
    },
    {
      "cell_type": "code",
      "metadata": {
        "colab": {
          "base_uri": "https://localhost:8080/",
          "height": 35
        },
        "id": "xPniD6oF8T1u",
        "outputId": "2cbbfe71-b2c1-42b4-981d-d31e53a013d4"
      },
      "source": [
        "(lambda x: x + \":)\")(\"hello \")"
      ],
      "execution_count": null,
      "outputs": [
        {
          "output_type": "execute_result",
          "data": {
            "application/vnd.google.colaboratory.intrinsic+json": {
              "type": "string"
            },
            "text/plain": [
              "'hello :)'"
            ]
          },
          "metadata": {
            "tags": []
          },
          "execution_count": 1
        }
      ]
    },
    {
      "cell_type": "code",
      "metadata": {
        "id": "5e-QzPVc9iNL"
      },
      "source": [
        "def functioner(emoji):\r\n",
        "  return lambda x: x + emoji"
      ],
      "execution_count": null,
      "outputs": []
    },
    {
      "cell_type": "code",
      "metadata": {
        "colab": {
          "base_uri": "https://localhost:8080/"
        },
        "id": "2d-6lcqk9wWp",
        "outputId": "83dcbadd-625c-4a22-e978-601057b64da5"
      },
      "source": [
        "functioner(\":)\")"
      ],
      "execution_count": null,
      "outputs": [
        {
          "output_type": "execute_result",
          "data": {
            "text/plain": [
              "<function __main__.functioner.<locals>.<lambda>>"
            ]
          },
          "metadata": {
            "tags": []
          },
          "execution_count": 3
        }
      ]
    },
    {
      "cell_type": "code",
      "metadata": {
        "colab": {
          "base_uri": "https://localhost:8080/",
          "height": 35
        },
        "id": "P2Mas_2I93fO",
        "outputId": "b0b26aa8-7310-425d-9b93-eb71afa45483"
      },
      "source": [
        "functioner(\":)\")(\"zuby \")"
      ],
      "execution_count": null,
      "outputs": [
        {
          "output_type": "execute_result",
          "data": {
            "application/vnd.google.colaboratory.intrinsic+json": {
              "type": "string"
            },
            "text/plain": [
              "'zuby :)'"
            ]
          },
          "metadata": {
            "tags": []
          },
          "execution_count": 4
        }
      ]
    },
    {
      "cell_type": "code",
      "metadata": {
        "id": "4ul_zAb7-unD"
      },
      "source": [
        "def x():\r\n",
        "  return 1, 2, 3, 4"
      ],
      "execution_count": null,
      "outputs": []
    },
    {
      "cell_type": "code",
      "metadata": {
        "colab": {
          "base_uri": "https://localhost:8080/"
        },
        "id": "a_E1Zikt_C2G",
        "outputId": "5e4f548c-a123-4d7b-8079-c4be91d5bcc3"
      },
      "source": [
        "x()"
      ],
      "execution_count": null,
      "outputs": [
        {
          "output_type": "execute_result",
          "data": {
            "text/plain": [
              "(1, 2, 3, 4)"
            ]
          },
          "metadata": {
            "tags": []
          },
          "execution_count": 6
        }
      ]
    },
    {
      "cell_type": "code",
      "metadata": {
        "colab": {
          "base_uri": "https://localhost:8080/"
        },
        "id": "YekNeD5v_Eih",
        "outputId": "9cde8b50-c17a-46f8-f85a-5a3f8b3773fd"
      },
      "source": [
        "# most used numbers\r\n",
        "num = [1,4,4,5,5,5,0,0,0,0]\r\n",
        "max(num, key = num.count)"
      ],
      "execution_count": null,
      "outputs": [
        {
          "output_type": "execute_result",
          "data": {
            "text/plain": [
              "0"
            ]
          },
          "metadata": {
            "tags": []
          },
          "execution_count": 10
        }
      ]
    },
    {
      "cell_type": "code",
      "metadata": {
        "id": "oiA_Mbqj_ujq"
      },
      "source": [
        "# given numbers how many same\r\n",
        "def equal(a,b,c):\r\n",
        "  number = [a,b,c]\r\n",
        "  res = number.count(max(number, key = number.count))\r\n",
        "  if res > 1:\r\n",
        "    return res \r\n",
        "  else:\r\n",
        "    return 0"
      ],
      "execution_count": null,
      "outputs": []
    },
    {
      "cell_type": "code",
      "metadata": {
        "colab": {
          "base_uri": "https://localhost:8080/"
        },
        "id": "hlFxzh77C-Fa",
        "outputId": "5ee562bd-db66-442c-942e-6d261d35713a"
      },
      "source": [
        "equal(4,4,8)"
      ],
      "execution_count": null,
      "outputs": [
        {
          "output_type": "execute_result",
          "data": {
            "text/plain": [
              "2"
            ]
          },
          "metadata": {
            "tags": []
          },
          "execution_count": 12
        }
      ]
    },
    {
      "cell_type": "code",
      "metadata": {
        "id": "0ZNENR_GDAGv"
      },
      "source": [
        "# given numbers how many same\r\n",
        "def equall(* x):\r\n",
        "  number = list(x)\r\n",
        "  res = number.count(max(number, key = number.count))\r\n",
        "  if res > 1:\r\n",
        "    return res \r\n",
        "  else:\r\n",
        "    return 0"
      ],
      "execution_count": null,
      "outputs": []
    },
    {
      "cell_type": "code",
      "metadata": {
        "colab": {
          "base_uri": "https://localhost:8080/"
        },
        "id": "TrFcy8R4DroO",
        "outputId": "80a449fa-cdf7-453f-9b71-75e8902b12cc"
      },
      "source": [
        "equall(0,2,5,1,6,3,0,4)"
      ],
      "execution_count": null,
      "outputs": [
        {
          "output_type": "execute_result",
          "data": {
            "text/plain": [
              "2"
            ]
          },
          "metadata": {
            "tags": []
          },
          "execution_count": 15
        }
      ]
    },
    {
      "cell_type": "code",
      "metadata": {
        "id": "e2RxVhA3DxQR"
      },
      "source": [
        "# yukarıdaki fonksiyonun lambda fonksyonuyla yazılması\r\n",
        "X = lambda a,b,c: ([a,b,c].count(max([a,b,c], key = [a,b,c].count))) \\\r\n",
        "if ([a,b,c].count(max([a,b,c], key = [a,b,c].count))) > 1 else 0"
      ],
      "execution_count": null,
      "outputs": []
    },
    {
      "cell_type": "code",
      "metadata": {
        "colab": {
          "base_uri": "https://localhost:8080/"
        },
        "id": "x4pMDJOOGcrM",
        "outputId": "1a115988-72bf-44b3-9a19-b97ce093839a"
      },
      "source": [
        "X(1,2,2)"
      ],
      "execution_count": null,
      "outputs": [
        {
          "output_type": "execute_result",
          "data": {
            "text/plain": [
              "2"
            ]
          },
          "metadata": {
            "tags": []
          },
          "execution_count": 21
        }
      ]
    },
    {
      "cell_type": "code",
      "metadata": {
        "id": "JXj8JjInGsxd"
      },
      "source": [
        ""
      ],
      "execution_count": null,
      "outputs": []
    },
    {
      "cell_type": "code",
      "metadata": {
        "id": "k6DQkJpJH2zK"
      },
      "source": [
        "# yukarıdaki fonksiyonun lambda fonksyonuyla yazılması\r\n",
        "X = lambda *m: (list(m).count(max(list(m), key = list(m).count))) \\\r\n",
        "if (list(m).count(max(list(m), key = list(m).count))) > 1 else 0"
      ],
      "execution_count": null,
      "outputs": []
    },
    {
      "cell_type": "code",
      "metadata": {
        "colab": {
          "base_uri": "https://localhost:8080/"
        },
        "id": "AdDC8U6OIDp_",
        "outputId": "2d5f6df6-01f9-4196-f34f-2a2682ebe437"
      },
      "source": [
        "X(1,2,4,5,63,3,3,3,3,4)"
      ],
      "execution_count": null,
      "outputs": [
        {
          "output_type": "execute_result",
          "data": {
            "text/plain": [
              "4"
            ]
          },
          "metadata": {
            "tags": []
          },
          "execution_count": 23
        }
      ]
    },
    {
      "cell_type": "code",
      "metadata": {
        "id": "4mZULhfgIIJ3",
        "colab": {
          "base_uri": "https://localhost:8080/"
        },
        "outputId": "98017f8a-d0bc-46be-8fc6-737fec4ee8a9"
      },
      "source": [
        "def func_generator(function_name):\r\n",
        "  return lambda x: function_name(x)\r\n",
        "\r\n",
        "myPrint = func_generator(print)\r\n",
        "myBool = func_generator(bool)\r\n",
        "myMax = func_generator(max)\r\n",
        "mySorted = func_generator(sorted)\r\n",
        "myPrint(\"smt\")\r\n",
        "myBool(0)\r\n",
        "myMax([1,2,3])\r\n",
        "mySorted([6,2,9,4,5])"
      ],
      "execution_count": null,
      "outputs": [
        {
          "output_type": "stream",
          "text": [
            "smt\n"
          ],
          "name": "stdout"
        },
        {
          "output_type": "execute_result",
          "data": {
            "text/plain": [
              "[2, 4, 5, 6, 9]"
            ]
          },
          "metadata": {
            "tags": []
          },
          "execution_count": 34
        }
      ]
    },
    {
      "cell_type": "code",
      "metadata": {
        "colab": {
          "base_uri": "https://localhost:8080/"
        },
        "id": "EaeBi5ymZjNs",
        "outputId": "00b241ea-43e4-479e-fe7e-c3f2d6f2d7e5"
      },
      "source": [
        "# SUPER SUPER SUPER\r\n",
        "calculator = {\r\n",
        "    \"sum\" : lambda x, y: x + y,\r\n",
        "    \"sub\" : lambda a, b: a - b,\r\n",
        "}\r\n",
        "\r\n",
        "calculator[\"sum\"](3, 5)"
      ],
      "execution_count": null,
      "outputs": [
        {
          "output_type": "execute_result",
          "data": {
            "text/plain": [
              "8"
            ]
          },
          "metadata": {
            "tags": []
          },
          "execution_count": 38
        }
      ]
    },
    {
      "cell_type": "code",
      "metadata": {
        "colab": {
          "base_uri": "https://localhost:8080/"
        },
        "id": "wjzCiKlNcfXp",
        "outputId": "e16b4ebe-1040-4a68-dc98-0220c3968f8d"
      },
      "source": [
        "from math import pi, log10, factorial\r\n",
        "print(pi)\r\n",
        "print(factorial(4))\r\n",
        "print(log10(1000))"
      ],
      "execution_count": null,
      "outputs": [
        {
          "output_type": "stream",
          "text": [
            "3.141592653589793\n",
            "24\n",
            "3.0\n"
          ],
          "name": "stdout"
        }
      ]
    },
    {
      "cell_type": "code",
      "metadata": {
        "colab": {
          "base_uri": "https://localhost:8080/"
        },
        "id": "ZMsuSMuTcrXg",
        "outputId": "75717cc3-8dbe-4fde-badc-80b941fc290e"
      },
      "source": [
        "import string as sss\r\n",
        "print(sss.punctuation)\r\n",
        "print(sss.digits)"
      ],
      "execution_count": null,
      "outputs": [
        {
          "output_type": "stream",
          "text": [
            "!\"#$%&'()*+,-./:;<=>?@[\\]^_`{|}~\n",
            "0123456789\n"
          ],
          "name": "stdout"
        }
      ]
    },
    {
      "cell_type": "code",
      "metadata": {
        "colab": {
          "base_uri": "https://localhost:8080/"
        },
        "id": "GHwdzsh9hZHJ",
        "outputId": "5c328119-fe25-43fe-b7e7-e4e1198422f7"
      },
      "source": [
        "from datetime import date, datetime\r\n",
        "\r\n",
        "print(date.today())\r\n",
        "print(datetime.now())"
      ],
      "execution_count": null,
      "outputs": [
        {
          "output_type": "stream",
          "text": [
            "2021-01-28\n",
            "2021-01-28 20:02:31.642625\n"
          ],
          "name": "stdout"
        }
      ]
    },
    {
      "cell_type": "code",
      "metadata": {
        "colab": {
          "base_uri": "https://localhost:8080/"
        },
        "id": "8oO0AQqRjVGl",
        "outputId": "b65d1063-5888-4851-ff37-1297baa13315"
      },
      "source": [
        "import datetime\r\n",
        "\r\n",
        "print(datetime.date.today())\r\n",
        "print(datetime.datetime.now())"
      ],
      "execution_count": null,
      "outputs": [
        {
          "output_type": "stream",
          "text": [
            "2021-01-28\n",
            "2021-01-28 20:03:38.273396\n"
          ],
          "name": "stdout"
        }
      ]
    },
    {
      "cell_type": "code",
      "metadata": {
        "colab": {
          "base_uri": "https://localhost:8080/"
        },
        "id": "bg4DQnEmmBhu",
        "outputId": "48495cbb-b78c-4789-bf4b-03ad9bc4ed89"
      },
      "source": [
        "birth = date(571,4,22)\r\n",
        "death = date(632,6,8)\r\n",
        "print(date.toordinal(death)-date.toordinal(birth))"
      ],
      "execution_count": null,
      "outputs": [
        {
          "output_type": "stream",
          "text": [
            "22327\n"
          ],
          "name": "stdout"
        }
      ]
    },
    {
      "cell_type": "code",
      "metadata": {
        "colab": {
          "base_uri": "https://localhost:8080/"
        },
        "id": "NzSGdIevnFhs",
        "outputId": "82c30edd-f637-42ca-ca82-589c33abd36b"
      },
      "source": [
        "from random import choice\r\n",
        "\r\n",
        "city=[\"sto\",\"ist\",\"seul\",\"cat\"]\r\n",
        "\r\n",
        "print(choice(city))\r\n"
      ],
      "execution_count": null,
      "outputs": [
        {
          "output_type": "stream",
          "text": [
            "cat\n"
          ],
          "name": "stdout"
        }
      ]
    },
    {
      "cell_type": "code",
      "metadata": {
        "colab": {
          "base_uri": "https://localhost:8080/"
        },
        "id": "m1xO4a15pKAV",
        "outputId": "3d14bd64-8d55-450a-ca1f-d72fe63c0cb8"
      },
      "source": [
        "cd /"
      ],
      "execution_count": null,
      "outputs": [
        {
          "output_type": "stream",
          "text": [
            "/\n"
          ],
          "name": "stdout"
        }
      ]
    },
    {
      "cell_type": "code",
      "metadata": {
        "colab": {
          "base_uri": "https://localhost:8080/",
          "height": 35
        },
        "id": "i4oNklhnusnr",
        "outputId": "b3532cd4-afc4-4cb9-a6b8-4aa3ecad5790"
      },
      "source": [
        "pwd"
      ],
      "execution_count": null,
      "outputs": [
        {
          "output_type": "execute_result",
          "data": {
            "application/vnd.google.colaboratory.intrinsic+json": {
              "type": "string"
            },
            "text/plain": [
              "'/'"
            ]
          },
          "metadata": {
            "tags": []
          },
          "execution_count": 73
        }
      ]
    },
    {
      "cell_type": "code",
      "metadata": {
        "colab": {
          "base_uri": "https://localhost:8080/"
        },
        "id": "7dt9Q3L9u6s_",
        "outputId": "d7b507e5-6ad1-4526-9891-9eddca19997c"
      },
      "source": [
        "cd content/"
      ],
      "execution_count": null,
      "outputs": [
        {
          "output_type": "stream",
          "text": [
            "/content\n"
          ],
          "name": "stdout"
        }
      ]
    },
    {
      "cell_type": "code",
      "metadata": {
        "id": "VMO9cOZyvZ8h"
      },
      "source": [
        "from upper_pack import my_pack1, my_pack2"
      ],
      "execution_count": null,
      "outputs": []
    },
    {
      "cell_type": "code",
      "metadata": {
        "id": "Rnr_KCCHwVvn"
      },
      "source": [
        "from upper_pack.my_pack1 import my_module_1, my_module_2"
      ],
      "execution_count": null,
      "outputs": []
    },
    {
      "cell_type": "code",
      "metadata": {
        "colab": {
          "base_uri": "https://localhost:8080/"
        },
        "id": "0QNIfG6Qws-g",
        "outputId": "b81d2001-6e13-4302-8fe1-e88e163e2344"
      },
      "source": [
        "dir(my_pack1)"
      ],
      "execution_count": null,
      "outputs": [
        {
          "output_type": "execute_result",
          "data": {
            "text/plain": [
              "['__builtins__',\n",
              " '__cached__',\n",
              " '__doc__',\n",
              " '__file__',\n",
              " '__loader__',\n",
              " '__name__',\n",
              " '__package__',\n",
              " '__path__',\n",
              " '__spec__',\n",
              " 'my_module_1',\n",
              " 'my_module_2']"
            ]
          },
          "metadata": {
            "tags": []
          },
          "execution_count": 77
        }
      ]
    },
    {
      "cell_type": "code",
      "metadata": {
        "id": "Ol3klxouwwhC"
      },
      "source": [
        "from upper_pack.my_pack2 import my_module_3, my_module_4"
      ],
      "execution_count": null,
      "outputs": []
    },
    {
      "cell_type": "code",
      "metadata": {
        "colab": {
          "base_uri": "https://localhost:8080/"
        },
        "id": "4WS3h5ygw8pN",
        "outputId": "f22ea2c6-fb56-4064-8009-5cbe28778283"
      },
      "source": [
        "my_module_2.divide(3,6)"
      ],
      "execution_count": null,
      "outputs": [
        {
          "output_type": "execute_result",
          "data": {
            "text/plain": [
              "0.5"
            ]
          },
          "metadata": {
            "tags": []
          },
          "execution_count": 79
        }
      ]
    },
    {
      "cell_type": "code",
      "metadata": {
        "colab": {
          "base_uri": "https://localhost:8080/"
        },
        "id": "eNn66PrnxcTB",
        "outputId": "164208eb-7a2d-408e-f367-fe2a213f20a8"
      },
      "source": [
        "my_module_1.multi(4,5)"
      ],
      "execution_count": null,
      "outputs": [
        {
          "output_type": "execute_result",
          "data": {
            "text/plain": [
              "20"
            ]
          },
          "metadata": {
            "tags": []
          },
          "execution_count": 81
        }
      ]
    },
    {
      "cell_type": "code",
      "metadata": {
        "colab": {
          "base_uri": "https://localhost:8080/",
          "height": 35
        },
        "id": "8RN2ZRuVxf7u",
        "outputId": "29d70843-410c-4a5d-acc8-996d5630f5cd"
      },
      "source": [
        "my_module_3.repeater(\"me \", 3)"
      ],
      "execution_count": null,
      "outputs": [
        {
          "output_type": "execute_result",
          "data": {
            "application/vnd.google.colaboratory.intrinsic+json": {
              "type": "string"
            },
            "text/plain": [
              "'me me me '"
            ]
          },
          "metadata": {
            "tags": []
          },
          "execution_count": 82
        }
      ]
    },
    {
      "cell_type": "code",
      "metadata": {
        "colab": {
          "base_uri": "https://localhost:8080/"
        },
        "id": "ffQeYxMjxtIz",
        "outputId": "1024ed71-f8fd-42ab-9054-3d4391c68122"
      },
      "source": [
        "my_module_4.sqroot(16)"
      ],
      "execution_count": null,
      "outputs": [
        {
          "output_type": "execute_result",
          "data": {
            "text/plain": [
              "4.0"
            ]
          },
          "metadata": {
            "tags": []
          },
          "execution_count": 83
        }
      ]
    },
    {
      "cell_type": "code",
      "metadata": {
        "colab": {
          "base_uri": "https://localhost:8080/"
        },
        "id": "HM-ZKo_Exxik",
        "outputId": "d2cefc86-a35c-4548-9119-4739e61a03b4"
      },
      "source": [
        "my_module_1.__spec__"
      ],
      "execution_count": null,
      "outputs": [
        {
          "output_type": "execute_result",
          "data": {
            "text/plain": [
              "ModuleSpec(name='upper_pack.my_pack1.my_module_1', loader=<_frozen_importlib_external.SourceFileLoader object at 0x7f3830f6d208>, origin='/content/upper_pack/my_pack1/my_module_1.py')"
            ]
          },
          "metadata": {
            "tags": []
          },
          "execution_count": 84
        }
      ]
    },
    {
      "cell_type": "code",
      "metadata": {
        "colab": {
          "base_uri": "https://localhost:8080/"
        },
        "id": "YgyfGPozx_RC",
        "outputId": "ad17df27-1311-49d3-f41c-79d1fab48795"
      },
      "source": [
        "import upper_pack\r\n",
        "dir(upper_pack)"
      ],
      "execution_count": null,
      "outputs": [
        {
          "output_type": "execute_result",
          "data": {
            "text/plain": [
              "['__builtins__',\n",
              " '__cached__',\n",
              " '__doc__',\n",
              " '__file__',\n",
              " '__loader__',\n",
              " '__name__',\n",
              " '__package__',\n",
              " '__path__',\n",
              " '__spec__',\n",
              " 'my_pack1',\n",
              " 'my_pack2']"
            ]
          },
          "metadata": {
            "tags": []
          },
          "execution_count": 87
        }
      ]
    },
    {
      "cell_type": "code",
      "metadata": {
        "id": "gI8fCDDUyGfc"
      },
      "source": [
        ""
      ],
      "execution_count": null,
      "outputs": []
    }
  ]
}