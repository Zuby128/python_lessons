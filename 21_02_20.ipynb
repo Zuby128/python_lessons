{
  "nbformat": 4,
  "nbformat_minor": 0,
  "metadata": {
    "colab": {
      "name": "21/02/20.ipynb",
      "provenance": [],
      "collapsed_sections": [],
      "authorship_tag": "ABX9TyNe+iKTuEMIbKFPFTxXxb2n",
      "include_colab_link": true
    },
    "kernelspec": {
      "name": "python3",
      "display_name": "Python 3"
    }
  },
  "cells": [
    {
      "cell_type": "markdown",
      "metadata": {
        "id": "view-in-github",
        "colab_type": "text"
      },
      "source": [
        "<a href=\"https://colab.research.google.com/github/Zuby128/python_lessons/blob/main/21_02_20.ipynb\" target=\"_parent\"><img src=\"https://colab.research.google.com/assets/colab-badge.svg\" alt=\"Open In Colab\"/></a>"
      ]
    },
    {
      "cell_type": "code",
      "metadata": {
        "id": "7PoAAqUaLXzV"
      },
      "source": [
        "import os"
      ],
      "execution_count": null,
      "outputs": []
    },
    {
      "cell_type": "code",
      "metadata": {
        "colab": {
          "base_uri": "https://localhost:8080/",
          "height": 35
        },
        "id": "Hk8YHlbgMoVa",
        "outputId": "5a91318e-ed80-4312-efbb-c6a71657c009"
      },
      "source": [
        "pwd"
      ],
      "execution_count": null,
      "outputs": [
        {
          "output_type": "execute_result",
          "data": {
            "application/vnd.google.colaboratory.intrinsic+json": {
              "type": "string"
            },
            "text/plain": [
              "'/content'"
            ]
          },
          "metadata": {
            "tags": []
          },
          "execution_count": 2
        }
      ]
    },
    {
      "cell_type": "code",
      "metadata": {
        "colab": {
          "base_uri": "https://localhost:8080/"
        },
        "id": "ovMEbONXMpqe",
        "outputId": "fa134e0c-e7f2-49a9-98ca-0812d6363e24"
      },
      "source": [
        "os.listdir()"
      ],
      "execution_count": null,
      "outputs": [
        {
          "output_type": "execute_result",
          "data": {
            "text/plain": [
              "['.config', 'sample_data']"
            ]
          },
          "metadata": {
            "tags": []
          },
          "execution_count": 3
        }
      ]
    },
    {
      "cell_type": "code",
      "metadata": {
        "id": "RF7mK5lWM4ag"
      },
      "source": [
        "import glob"
      ],
      "execution_count": null,
      "outputs": []
    },
    {
      "cell_type": "code",
      "metadata": {
        "id": "cfd5vKhSNFQH"
      },
      "source": [
        "for file in glob.glob(\"*.txt\"):  # tüm txt dosyalarını sıralar bulunduğu dir deki\r\n",
        "  print(file)"
      ],
      "execution_count": null,
      "outputs": []
    },
    {
      "cell_type": "code",
      "metadata": {
        "id": "hvY5CrTiNXPH"
      },
      "source": [
        "import shutil"
      ],
      "execution_count": null,
      "outputs": []
    },
    {
      "cell_type": "code",
      "metadata": {
        "colab": {
          "base_uri": "https://localhost:8080/",
          "height": 35
        },
        "id": "MDAsY4srNmSs",
        "outputId": "97079d24-265f-4395-812d-d6964aac93c3"
      },
      "source": [
        "shutil.copy(\"gutter.png\", \"./new_sample.png\")  #sample_data yı aynı yere kopyalamak için, ../üst dir e vs..."
      ],
      "execution_count": null,
      "outputs": [
        {
          "output_type": "execute_result",
          "data": {
            "application/vnd.google.colaboratory.intrinsic+json": {
              "type": "string"
            },
            "text/plain": [
              "'./new_sample.png'"
            ]
          },
          "metadata": {
            "tags": []
          },
          "execution_count": 8
        }
      ]
    },
    {
      "cell_type": "code",
      "metadata": {
        "id": "Bxysm--mOGOg"
      },
      "source": [
        "import sys"
      ],
      "execution_count": null,
      "outputs": []
    },
    {
      "cell_type": "code",
      "metadata": {
        "id": "akNih7bxOYVV"
      },
      "source": [
        "x = [1, 2, 3]\r\n",
        "y = (1, 2, 3)"
      ],
      "execution_count": null,
      "outputs": []
    },
    {
      "cell_type": "code",
      "metadata": {
        "colab": {
          "base_uri": "https://localhost:8080/"
        },
        "id": "zioC92afO5TB",
        "outputId": "5f286b39-44cf-45ff-e434-0cf600d61cc1"
      },
      "source": [
        "print(sys.getsizeof(x), \"\\n\", sys.getsizeof(y))"
      ],
      "execution_count": null,
      "outputs": [
        {
          "output_type": "stream",
          "text": [
            "88 \n",
            " 72\n"
          ],
          "name": "stdout"
        }
      ]
    },
    {
      "cell_type": "code",
      "metadata": {
        "id": "4BaVMCzxPEym"
      },
      "source": [
        "sudoku = [\r\n",
        "    [0, 0, 0, 0, 6, 4, 0, 0, 0],\r\n",
        "    [7, 0, 0, 0, 0, 0, 3, 9, 0],\r\n",
        "    [8, 0, 0, 0, 0, 0, 0, 0, 0],\r\n",
        "    [0, 0, 0, 5, 0, 2, 0, 6, 0],\r\n",
        "    [0, 8, 0, 4, 0, 0, 0, 0, 0],\r\n",
        "    [3, 5, 0, 6, 0, 0, 0, 7, 0],\r\n",
        "    [0, 0, 2, 0, 0, 0, 1, 0, 3],\r\n",
        "    [0, 0, 1, 0, 5, 9, 0, 0, 0],\r\n",
        "    [0, 0, 0, 0, 0, 0, 7, 0, 0]\r\n",
        "]"
      ],
      "execution_count": null,
      "outputs": []
    },
    {
      "cell_type": "code",
      "metadata": {
        "colab": {
          "base_uri": "https://localhost:8080/"
        },
        "id": "do92I36XQN5h",
        "outputId": "db78299a-c31b-4e61-abf7-2a24e437bf0f"
      },
      "source": [
        "counter = 0\r\n",
        "\r\n",
        "for i in sudoku:\r\n",
        "  for j in range(9):\r\n",
        "    print(i[j], \" \", end=\"\")\r\n",
        "    if (j + 1) == 9:\r\n",
        "      print()\r\n",
        "      counter += 1\r\n",
        "      if counter % 3 == 0 and counter != 0:\r\n",
        "        print(\"- - - - - - - - - - - - - - -\")\r\n",
        "    if (j + 1) % 3 == 0 and j != 0 and j != 8:\r\n",
        "      print(\"| \", end=\"\")\r\n"
      ],
      "execution_count": null,
      "outputs": [
        {
          "output_type": "stream",
          "text": [
            "0  0  0  | 0  6  4  | 0  0  0  \n",
            "7  0  0  | 0  0  0  | 3  9  0  \n",
            "8  0  0  | 0  0  0  | 0  0  0  \n",
            "- - - - - - - - - - - - - - -\n",
            "0  0  0  | 5  0  2  | 0  6  0  \n",
            "0  8  0  | 4  0  0  | 0  0  0  \n",
            "3  5  0  | 6  0  0  | 0  7  0  \n",
            "- - - - - - - - - - - - - - -\n",
            "0  0  2  | 0  0  0  | 1  0  3  \n",
            "0  0  1  | 0  5  9  | 0  0  0  \n",
            "0  0  0  | 0  0  0  | 7  0  0  \n",
            "- - - - - - - - - - - - - - -\n"
          ],
          "name": "stdout"
        }
      ]
    },
    {
      "cell_type": "code",
      "metadata": {
        "id": "GLOcYKKSQ9_9"
      },
      "source": [
        "x = [([1], [2, 3], (4, 5, 6))]"
      ],
      "execution_count": null,
      "outputs": []
    },
    {
      "cell_type": "code",
      "metadata": {
        "id": "tjgM1BfwTPJ7"
      },
      "source": [
        "a = []"
      ],
      "execution_count": null,
      "outputs": []
    },
    {
      "cell_type": "code",
      "metadata": {
        "colab": {
          "base_uri": "https://localhost:8080/"
        },
        "id": "LlFeLg1ATn9N",
        "outputId": "8d68db46-b862-42c7-ea57-c24609f71a39"
      },
      "source": [
        "for i in x:\r\n",
        "  for j in i:\r\n",
        "    for z in j:\r\n",
        "      a.append(z)\r\n",
        "a"
      ],
      "execution_count": null,
      "outputs": [
        {
          "output_type": "execute_result",
          "data": {
            "text/plain": [
              "[1, 2, 3, 4, 5, 6]"
            ]
          },
          "metadata": {
            "tags": []
          },
          "execution_count": 33
        }
      ]
    },
    {
      "cell_type": "code",
      "metadata": {
        "colab": {
          "base_uri": "https://localhost:8080/"
        },
        "id": "Vi7d8V2sUKSl",
        "outputId": "b6cc028d-a914-49e0-f5c5-3093f6d006b0"
      },
      "source": [
        "[z for i in x for j in i for z in j]"
      ],
      "execution_count": null,
      "outputs": [
        {
          "output_type": "execute_result",
          "data": {
            "text/plain": [
              "[1, 2, 3, 4, 5, 6]"
            ]
          },
          "metadata": {
            "tags": []
          },
          "execution_count": 34
        }
      ]
    },
    {
      "cell_type": "code",
      "metadata": {
        "id": "e8TqYvMeUsBk"
      },
      "source": [
        "import datetime\r\n",
        "\r\n",
        "def show_time():\r\n",
        "\r\n",
        "  time = datetime.now()"
      ],
      "execution_count": null,
      "outputs": []
    },
    {
      "cell_type": "code",
      "metadata": {
        "colab": {
          "base_uri": "https://localhost:8080/"
        },
        "id": "WU-ya4AQVk41",
        "outputId": "9cc0c4f2-4673-4354-dc98-e475868252b2"
      },
      "source": [
        "my_list = [1, 3, 6, 10]\r\n",
        "\r\n",
        "a = (x**2 for x in my_list)\r\n",
        "\r\n",
        "a"
      ],
      "execution_count": null,
      "outputs": [
        {
          "output_type": "execute_result",
          "data": {
            "text/plain": [
              "<generator object <genexpr> at 0x7efe73ed0308>"
            ]
          },
          "metadata": {
            "tags": []
          },
          "execution_count": 42
        }
      ]
    },
    {
      "cell_type": "code",
      "metadata": {
        "colab": {
          "base_uri": "https://localhost:8080/"
        },
        "id": "rMQA-nVnVxWX",
        "outputId": "e171a9f3-bc9a-4f3a-8cfb-437133eb9590"
      },
      "source": [
        "print(next(a))"
      ],
      "execution_count": null,
      "outputs": [
        {
          "output_type": "stream",
          "text": [
            "1\n"
          ],
          "name": "stdout"
        }
      ]
    },
    {
      "cell_type": "code",
      "metadata": {
        "colab": {
          "base_uri": "https://localhost:8080/"
        },
        "id": "uJYTnnRfWIIJ",
        "outputId": "1eda70f9-656f-47b9-d154-364b9b2f6f8e"
      },
      "source": [
        "print(next(a))"
      ],
      "execution_count": null,
      "outputs": [
        {
          "output_type": "stream",
          "text": [
            "9\n"
          ],
          "name": "stdout"
        }
      ]
    },
    {
      "cell_type": "code",
      "metadata": {
        "colab": {
          "base_uri": "https://localhost:8080/"
        },
        "id": "PybETwT-WPO8",
        "outputId": "28a9cb75-e9ff-49c2-c327-6b869f8af959"
      },
      "source": [
        "print(next(a))"
      ],
      "execution_count": null,
      "outputs": [
        {
          "output_type": "stream",
          "text": [
            "36\n"
          ],
          "name": "stdout"
        }
      ]
    },
    {
      "cell_type": "code",
      "metadata": {
        "colab": {
          "base_uri": "https://localhost:8080/"
        },
        "id": "-g5twegnWRm-",
        "outputId": "c6d4b172-64bf-49ff-f835-4899278ee2ee"
      },
      "source": [
        "print(next(a))"
      ],
      "execution_count": null,
      "outputs": [
        {
          "output_type": "stream",
          "text": [
            "100\n"
          ],
          "name": "stdout"
        }
      ]
    },
    {
      "cell_type": "code",
      "metadata": {
        "colab": {
          "base_uri": "https://localhost:8080/",
          "height": 163
        },
        "id": "h0FlYpKkWSGo",
        "outputId": "23297036-fcb8-448a-b1e3-1d42ed63c9cb"
      },
      "source": [
        "print(next(a))"
      ],
      "execution_count": null,
      "outputs": [
        {
          "output_type": "error",
          "ename": "StopIteration",
          "evalue": "ignored",
          "traceback": [
            "\u001b[0;31m---------------------------------------------------------------------------\u001b[0m",
            "\u001b[0;31mStopIteration\u001b[0m                             Traceback (most recent call last)",
            "\u001b[0;32m<ipython-input-47-94b12d3903f7>\u001b[0m in \u001b[0;36m<module>\u001b[0;34m()\u001b[0m\n\u001b[0;32m----> 1\u001b[0;31m \u001b[0mprint\u001b[0m\u001b[0;34m(\u001b[0m\u001b[0mnext\u001b[0m\u001b[0;34m(\u001b[0m\u001b[0ma\u001b[0m\u001b[0;34m)\u001b[0m\u001b[0;34m)\u001b[0m\u001b[0;34m\u001b[0m\u001b[0;34m\u001b[0m\u001b[0m\n\u001b[0m",
            "\u001b[0;31mStopIteration\u001b[0m: "
          ]
        }
      ]
    },
    {
      "cell_type": "code",
      "metadata": {
        "id": "-z5mZuubWT6t"
      },
      "source": [
        "Example 1:\r\n",
        "Input: \"()\"\r\n",
        "Output: True\r\n",
        "Example 2:\r\n",
        "Input: \"()[]{}\"\r\n",
        "Output: True\r\n",
        "Example 3:\r\n",
        "Input: \"(]\"\r\n",
        "Output: False\r\n",
        "Example 4:\r\n",
        "Input: \"([)]\"\r\n",
        "Output: False\r\n",
        "Example 5:\r\n",
        "Input: \"{[]}\"\r\n",
        "Output: True"
      ],
      "execution_count": null,
      "outputs": []
    },
    {
      "cell_type": "code",
      "metadata": {
        "id": "tNCwJfkaZCcP"
      },
      "source": [
        "p = \"([{()}])\"  #içten başlayarak silmeye başlarsan en sonunda \"\" oluyor netice"
      ],
      "execution_count": null,
      "outputs": []
    },
    {
      "cell_type": "code",
      "metadata": {
        "id": "U4TeqaLXcBcB"
      },
      "source": [
        "while \"()\" in p or \"{}\" in p or \"[]\" in p:\r\n",
        "  p = p.replace(\"()\", \"\").replace(\"{}\", \"\").replace(\"[]\", \"\")"
      ],
      "execution_count": null,
      "outputs": []
    },
    {
      "cell_type": "code",
      "metadata": {
        "colab": {
          "base_uri": "https://localhost:8080/"
        },
        "id": "KIFin_-ocX1i",
        "outputId": "cd5297f1-6643-4b98-9306-151188c80fb6"
      },
      "source": [
        "p == \"\""
      ],
      "execution_count": null,
      "outputs": [
        {
          "output_type": "execute_result",
          "data": {
            "text/plain": [
              "True"
            ]
          },
          "metadata": {
            "tags": []
          },
          "execution_count": 51
        }
      ]
    },
    {
      "cell_type": "code",
      "metadata": {
        "id": "sPpbTO8gccC-"
      },
      "source": [
        ""
      ],
      "execution_count": null,
      "outputs": []
    },
    {
      "cell_type": "code",
      "metadata": {
        "colab": {
          "base_uri": "https://localhost:8080/"
        },
        "id": "pT_hIeVRf_ue",
        "outputId": "249a9a25-e53b-41c9-c728-528b3cbcb881"
      },
      "source": [
        "n = 3\r\n",
        "comb = ['()']\r\n",
        "c = 1\r\n",
        "while c < n:\r\n",
        "    temp = []\r\n",
        "    for i in comb:\r\n",
        "        for j in range(len(i)):\r\n",
        "            temp.append(i[:j] + '()' + i[j:])\r\n",
        "            print(f\"i[:{j}] :\", i[:j])\r\n",
        "            print(f\"i[{j}:] :\", i[j:])\r\n",
        "            print(i[:j], \"+ () +\", i[j:], \"=\",temp)\r\n",
        "    print(\"last iterate:\", temp)\r\n",
        "    # use the set function when n = 3\r\n",
        "    comb = list(set(temp))\r\n",
        "    c += 1\r\n",
        "comb if n!=0 else [\"\"]"
      ],
      "execution_count": null,
      "outputs": [
        {
          "output_type": "stream",
          "text": [
            "i[:0] : \n",
            "i[0:] : ()\n",
            " + () + () = ['()()']\n",
            "i[:1] : (\n",
            "i[1:] : )\n",
            "( + () + ) = ['()()', '(())']\n",
            "last iterate: ['()()', '(())']\n",
            "i[:0] : \n",
            "i[0:] : ()()\n",
            " + () + ()() = ['()()()']\n",
            "i[:1] : (\n",
            "i[1:] : )()\n",
            "( + () + )() = ['()()()', '(())()']\n",
            "i[:2] : ()\n",
            "i[2:] : ()\n",
            "() + () + () = ['()()()', '(())()', '()()()']\n",
            "i[:3] : ()(\n",
            "i[3:] : )\n",
            "()( + () + ) = ['()()()', '(())()', '()()()', '()(())']\n",
            "i[:0] : \n",
            "i[0:] : (())\n",
            " + () + (()) = ['()()()', '(())()', '()()()', '()(())', '()(())']\n",
            "i[:1] : (\n",
            "i[1:] : ())\n",
            "( + () + ()) = ['()()()', '(())()', '()()()', '()(())', '()(())', '(()())']\n",
            "i[:2] : ((\n",
            "i[2:] : ))\n",
            "(( + () + )) = ['()()()', '(())()', '()()()', '()(())', '()(())', '(()())', '((()))']\n",
            "i[:3] : (()\n",
            "i[3:] : )\n",
            "(() + () + ) = ['()()()', '(())()', '()()()', '()(())', '()(())', '(()())', '((()))', '(()())']\n",
            "last iterate: ['()()()', '(())()', '()()()', '()(())', '()(())', '(()())', '((()))', '(()())']\n"
          ],
          "name": "stdout"
        },
        {
          "output_type": "execute_result",
          "data": {
            "text/plain": [
              "['((()))', '(()())', '(())()', '()(())', '()()()']"
            ]
          },
          "metadata": {
            "tags": []
          },
          "execution_count": 64
        }
      ]
    },
    {
      "cell_type": "code",
      "metadata": {
        "colab": {
          "base_uri": "https://localhost:8080/"
        },
        "id": "oa_cZA7VhA-0",
        "outputId": "a36d70ec-b20b-43ae-b750-4635ea79507d"
      },
      "source": [
        "n = 3\r\n",
        "comb = ['()']\r\n",
        "c = 1\r\n",
        "while c < n:\r\n",
        "    temp = []\r\n",
        "    for i in comb:\r\n",
        "        for j in range(len(i)):\r\n",
        "            temp.append(i[:j] + '()' + i[j:])\r\n",
        "    # use the set function when n = 3\r\n",
        "    comb = list(set(temp))\r\n",
        "    c += 1\r\n",
        "comb if n!=0 else [\"\"]\r\n"
      ],
      "execution_count": null,
      "outputs": [
        {
          "output_type": "execute_result",
          "data": {
            "text/plain": [
              "['((()))', '(()())', '(())()', '()(())', '()()()']"
            ]
          },
          "metadata": {
            "tags": []
          },
          "execution_count": 65
        }
      ]
    },
    {
      "cell_type": "code",
      "metadata": {
        "id": "gc1XuMRWjz5z"
      },
      "source": [
        "x,y,z = 0,1,0"
      ],
      "execution_count": null,
      "outputs": []
    },
    {
      "cell_type": "code",
      "metadata": {
        "colab": {
          "base_uri": "https://localhost:8080/"
        },
        "id": "9-FCFsg8krAf",
        "outputId": "18bc1c15-2acf-4ac4-b483-356d78c8dc05"
      },
      "source": [
        "if (x == 1) or (y == 1) or (z == 1):\r\n",
        "  print(\"passed\")"
      ],
      "execution_count": null,
      "outputs": [
        {
          "output_type": "stream",
          "text": [
            "passed\n"
          ],
          "name": "stdout"
        }
      ]
    },
    {
      "cell_type": "code",
      "metadata": {
        "colab": {
          "base_uri": "https://localhost:8080/"
        },
        "id": "93F0z9qekyh2",
        "outputId": "e04c7b38-98e8-4fea-afff-ae12fe42b156"
      },
      "source": [
        "if x == 1 or y == 1 or z == 1:\r\n",
        "  print(\"passed\")"
      ],
      "execution_count": null,
      "outputs": [
        {
          "output_type": "stream",
          "text": [
            "passed\n"
          ],
          "name": "stdout"
        }
      ]
    },
    {
      "cell_type": "code",
      "metadata": {
        "colab": {
          "base_uri": "https://localhost:8080/"
        },
        "id": "GNZGbZWTk7it",
        "outputId": "e0de637b-36a0-4149-ab77-465a7278bfe5"
      },
      "source": [
        "if 1 in (x, y, z):  # !!!!!!!!!!!!!!!!!!!!!!!!!!!!!!!!\r\n",
        "  print(\"passed\")"
      ],
      "execution_count": null,
      "outputs": [
        {
          "output_type": "stream",
          "text": [
            "passed\n"
          ],
          "name": "stdout"
        }
      ]
    },
    {
      "cell_type": "code",
      "metadata": {
        "colab": {
          "base_uri": "https://localhost:8080/"
        },
        "id": "wgwoeDhZlETl",
        "outputId": "a9d98414-8a42-458f-eef7-93672b71f6db"
      },
      "source": [
        "if x or y or z:\r\n",
        "  print(\"passed\")"
      ],
      "execution_count": null,
      "outputs": [
        {
          "output_type": "stream",
          "text": [
            "passed\n"
          ],
          "name": "stdout"
        }
      ]
    },
    {
      "cell_type": "code",
      "metadata": {
        "colab": {
          "base_uri": "https://localhost:8080/"
        },
        "id": "8Csv_zjyloTk",
        "outputId": "e446c0bd-a04d-4f4b-e66e-2440752b4104"
      },
      "source": [
        "if any((x,y,z)):\r\n",
        "  print(\"passed\")"
      ],
      "execution_count": null,
      "outputs": [
        {
          "output_type": "stream",
          "text": [
            "passed\n"
          ],
          "name": "stdout"
        }
      ]
    },
    {
      "cell_type": "code",
      "metadata": {
        "id": "cf6pk0Ddl8ak"
      },
      "source": [
        ""
      ],
      "execution_count": null,
      "outputs": []
    }
  ]
}