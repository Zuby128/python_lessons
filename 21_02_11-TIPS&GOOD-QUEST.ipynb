{
  "nbformat": 4,
  "nbformat_minor": 0,
  "metadata": {
    "colab": {
      "name": "21/02/11.ipynb",
      "provenance": [],
      "collapsed_sections": [],
      "authorship_tag": "ABX9TyOGHXQ6mvNyzrUvFbPlyzfv",
      "include_colab_link": true
    },
    "kernelspec": {
      "name": "python3",
      "display_name": "Python 3"
    }
  },
  "cells": [
    {
      "cell_type": "markdown",
      "metadata": {
        "id": "view-in-github",
        "colab_type": "text"
      },
      "source": [
        "<a href=\"https://colab.research.google.com/github/Zuby128/python_lessons/blob/main/21_02_11.ipynb\" target=\"_parent\"><img src=\"https://colab.research.google.com/assets/colab-badge.svg\" alt=\"Open In Colab\"/></a>"
      ]
    },
    {
      "cell_type": "code",
      "metadata": {
        "id": "WDms-d_BDLMj"
      },
      "source": [
        ""
      ],
      "execution_count": null,
      "outputs": []
    },
    {
      "cell_type": "code",
      "metadata": {
        "id": "4rGVyotfI1hy"
      },
      "source": [
        ""
      ],
      "execution_count": null,
      "outputs": []
    },
    {
      "cell_type": "code",
      "metadata": {
        "id": "07crCzUvLF2X",
        "colab": {
          "base_uri": "https://localhost:8080/"
        },
        "outputId": "4e75f970-c64c-4287-a810-5d387cbf0a75"
      },
      "source": [
        "data = [\"a\", \"b\", True, (False, 1), {\"1\": 1}, [1, 2], {\"2\": 2}, {2, 3}, \"c\", 23, 0]\r\n",
        "\r\n",
        "types = [\"int\", \"str\", \"bool\", \"list\", \"tuple\", \"dict\", \"set\"]\r\n",
        "\r\n",
        "total = {}.fromkeys(types, 0)  # very important\r\n",
        "\r\n",
        "print(total)"
      ],
      "execution_count": null,
      "outputs": [
        {
          "output_type": "stream",
          "text": [
            "{'int': 0, 'str': 0, 'bool': 0, 'list': 0, 'tuple': 0, 'dict': 0, 'set': 0}\n"
          ],
          "name": "stdout"
        }
      ]
    },
    {
      "cell_type": "code",
      "metadata": {
        "colab": {
          "base_uri": "https://localhost:8080/"
        },
        "id": "-0-SYjRNf3Ou",
        "outputId": "fb091fd4-ee2e-4702-a750-945b7c5aa608"
      },
      "source": [
        "for i in range(len(data)):\r\n",
        "  if type(data[i]) == type(1): total[\"int\"] += 1\r\n",
        "  elif type(data[i]) == type(\"str\"): total[\"str\"] += 1\r\n",
        "  elif type(data[i]) == type(False): total[\"bool\"] += 1\r\n",
        "  elif type(data[i]) == type([]): total[\"list\"] += 1\r\n",
        "  elif type(data[i]) == type(()): total[\"tuple\"] += 1\r\n",
        "  elif type(data[i]) == type({}): total[\"dict\"] += 1\r\n",
        "  elif type(data[i]) == type({\"set\"}): total[\"set\"] += 1\r\n",
        "\r\n",
        "print(total)\r\n"
      ],
      "execution_count": null,
      "outputs": [
        {
          "output_type": "stream",
          "text": [
            "{'int': 2, 'str': 3, 'bool': 1, 'list': 1, 'tuple': 1, 'dict': 2, 'set': 1}\n"
          ],
          "name": "stdout"
        }
      ]
    },
    {
      "cell_type": "code",
      "metadata": {
        "colab": {
          "base_uri": "https://localhost:8080/"
        },
        "id": "k9usTWTijD68",
        "outputId": "294697f7-3a68-4a7b-8077-8c6406c43bae"
      },
      "source": [
        "no1 = 10_000_000_000\r\n",
        "no2 = 100_000_000\r\n",
        "addition=no1+no2\r\n",
        "addition"
      ],
      "execution_count": null,
      "outputs": [
        {
          "output_type": "execute_result",
          "data": {
            "text/plain": [
              "10100000000"
            ]
          },
          "metadata": {
            "tags": []
          },
          "execution_count": 27
        }
      ]
    },
    {
      "cell_type": "code",
      "metadata": {
        "colab": {
          "base_uri": "https://localhost:8080/"
        },
        "id": "D2x82L9imMsO",
        "outputId": "ef5e7e8a-67a5-4422-deff-77f55844a02c"
      },
      "source": [
        "print(\"{:,}\".format(addition))"
      ],
      "execution_count": null,
      "outputs": [
        {
          "output_type": "stream",
          "text": [
            "10,100,000,000\n"
          ],
          "name": "stdout"
        }
      ]
    },
    {
      "cell_type": "code",
      "metadata": {
        "colab": {
          "base_uri": "https://localhost:8080/"
        },
        "id": "LqB-Shp_mv9Z",
        "outputId": "b38726d7-19e0-4ce5-bd09-b5ab7b1a855f"
      },
      "source": [
        "a,b,c,d=(10,20,30,40)\r\n",
        "a"
      ],
      "execution_count": null,
      "outputs": [
        {
          "output_type": "execute_result",
          "data": {
            "text/plain": [
              "10"
            ]
          },
          "metadata": {
            "tags": []
          },
          "execution_count": 30
        }
      ]
    },
    {
      "cell_type": "code",
      "metadata": {
        "colab": {
          "base_uri": "https://localhost:8080/"
        },
        "id": "Y_5Jc5IDnG6i",
        "outputId": "a1104b5c-a69d-4f5b-f99b-49224bf7d713"
      },
      "source": [
        "a, b"
      ],
      "execution_count": null,
      "outputs": [
        {
          "output_type": "execute_result",
          "data": {
            "text/plain": [
              "(10, 20)"
            ]
          },
          "metadata": {
            "tags": []
          },
          "execution_count": 31
        }
      ]
    },
    {
      "cell_type": "code",
      "metadata": {
        "colab": {
          "base_uri": "https://localhost:8080/"
        },
        "id": "fsnZ3ACJnLJA",
        "outputId": "d6198a9d-f05a-4036-9ce3-b8ed61052286"
      },
      "source": [
        "a,_,c,_=(10,20,30,40)  # _ olunca yer kaplamıyor memoryde\r\n",
        "c"
      ],
      "execution_count": null,
      "outputs": [
        {
          "output_type": "execute_result",
          "data": {
            "text/plain": [
              "30"
            ]
          },
          "metadata": {
            "tags": []
          },
          "execution_count": 34
        }
      ]
    },
    {
      "cell_type": "code",
      "metadata": {
        "colab": {
          "base_uri": "https://localhost:8080/"
        },
        "id": "NC3LFP5-ndcN",
        "outputId": "fcb7e543-f9ab-4f82-fb55-86e8e899a2b9"
      },
      "source": [
        "x,y,*z=(11,22,33,44,55)\r\n",
        "x,y"
      ],
      "execution_count": null,
      "outputs": [
        {
          "output_type": "execute_result",
          "data": {
            "text/plain": [
              "(11, 22)"
            ]
          },
          "metadata": {
            "tags": []
          },
          "execution_count": 36
        }
      ]
    },
    {
      "cell_type": "code",
      "metadata": {
        "colab": {
          "base_uri": "https://localhost:8080/"
        },
        "id": "dRwlh-PLn9Bj",
        "outputId": "ee3b300d-f954-4ae3-e5bd-03e4f77c5210"
      },
      "source": [
        "z  # liste çevirdi ve geri kalanı aldı"
      ],
      "execution_count": null,
      "outputs": [
        {
          "output_type": "execute_result",
          "data": {
            "text/plain": [
              "[33, 44, 55]"
            ]
          },
          "metadata": {
            "tags": []
          },
          "execution_count": 37
        }
      ]
    },
    {
      "cell_type": "code",
      "metadata": {
        "colab": {
          "base_uri": "https://localhost:8080/"
        },
        "id": "08xr7kn-oCte",
        "outputId": "5cfa63d4-e5cf-443d-b668-c5b4960db1f9"
      },
      "source": [
        "x,y,*_=(11,22,33,44,55)\r\n",
        "x,y"
      ],
      "execution_count": null,
      "outputs": [
        {
          "output_type": "execute_result",
          "data": {
            "text/plain": [
              "(11, 22)"
            ]
          },
          "metadata": {
            "tags": []
          },
          "execution_count": 38
        }
      ]
    },
    {
      "cell_type": "code",
      "metadata": {
        "colab": {
          "base_uri": "https://localhost:8080/"
        },
        "id": "0_WXGRjKoXOP",
        "outputId": "6a0ecf85-e14b-47d1-bcb3-7889a1c4257d"
      },
      "source": [
        "x,y,*z,t=(11,22,33,44,55,66,77)\r\n",
        "t"
      ],
      "execution_count": null,
      "outputs": [
        {
          "output_type": "execute_result",
          "data": {
            "text/plain": [
              "77"
            ]
          },
          "metadata": {
            "tags": []
          },
          "execution_count": 40
        }
      ]
    },
    {
      "cell_type": "code",
      "metadata": {
        "colab": {
          "base_uri": "https://localhost:8080/"
        },
        "id": "b-Mb6x0-or7F",
        "outputId": "649e0314-8a1b-4f4c-b27c-6f9ffe49d7b8"
      },
      "source": [
        "z"
      ],
      "execution_count": null,
      "outputs": [
        {
          "output_type": "execute_result",
          "data": {
            "text/plain": [
              "[33, 44, 55, 66]"
            ]
          },
          "metadata": {
            "tags": []
          },
          "execution_count": 41
        }
      ]
    },
    {
      "cell_type": "code",
      "metadata": {
        "id": "VEQ5h2exos2_"
      },
      "source": [
        "x,y,*_,t=(11,22,33,44,55,66,77)"
      ],
      "execution_count": null,
      "outputs": []
    },
    {
      "cell_type": "code",
      "metadata": {
        "id": "epSjjenPo5US"
      },
      "source": [
        "birds = [\"owl\", \"phonenix\", \"sparrow\", \"eagle\"]"
      ],
      "execution_count": null,
      "outputs": []
    },
    {
      "cell_type": "code",
      "metadata": {
        "colab": {
          "base_uri": "https://localhost:8080/"
        },
        "id": "2ta2Djgtslo_",
        "outputId": "2691ac51-b786-4c5d-8505-c6c7b5e79a5f"
      },
      "source": [
        "for index, bird in enumerate(birds):\r\n",
        "  print(index, bird)"
      ],
      "execution_count": null,
      "outputs": [
        {
          "output_type": "stream",
          "text": [
            "0 owl\n",
            "1 phonenix\n",
            "2 sparrow\n",
            "3 eagle\n"
          ],
          "name": "stdout"
        }
      ]
    },
    {
      "cell_type": "code",
      "metadata": {
        "colab": {
          "base_uri": "https://localhost:8080/"
        },
        "id": "AEUFBpkNsuLj",
        "outputId": "297e35f1-9854-4723-f3fe-9380c1137aa3"
      },
      "source": [
        "print(*enumerate(birds))"
      ],
      "execution_count": null,
      "outputs": [
        {
          "output_type": "stream",
          "text": [
            "(0, 'owl') (1, 'phonenix') (2, 'sparrow') (3, 'eagle')\n"
          ],
          "name": "stdout"
        }
      ]
    },
    {
      "cell_type": "code",
      "metadata": {
        "id": "fAwnaKuQs5Bn"
      },
      "source": [
        "countries=[\"tr\", \"nl\", \"fr\", \"usa\"]\r\n",
        "capitals=[\"ank\", \"ams\", \"paris\", \"ny\"]"
      ],
      "execution_count": null,
      "outputs": []
    },
    {
      "cell_type": "code",
      "metadata": {
        "colab": {
          "base_uri": "https://localhost:8080/"
        },
        "id": "3ukjgySruQA9",
        "outputId": "c6d377a7-2baf-40f1-fe81-86a1ec5139f6"
      },
      "source": [
        "for index, country in enumerate(countries):\r\n",
        "  capital=capitals[index]\r\n",
        "  print(f\"capital of {country} is {capital}\")"
      ],
      "execution_count": null,
      "outputs": [
        {
          "output_type": "stream",
          "text": [
            "capital of tr is ank\n",
            "capital of nl is ams\n",
            "capital of fr is paris\n",
            "capital of usa is ny\n"
          ],
          "name": "stdout"
        }
      ]
    },
    {
      "cell_type": "code",
      "metadata": {
        "id": "hQtUJsgWuhcd"
      },
      "source": [
        ""
      ],
      "execution_count": null,
      "outputs": []
    },
    {
      "cell_type": "code",
      "metadata": {
        "id": "zky4fBATuyvk"
      },
      "source": [
        "countries=[\"tr\", \"nl\", \"fr\", \"usa\"]\r\n",
        "capitals=[\"ank\", \"ams\", \"paris\", \"ny\"]"
      ],
      "execution_count": null,
      "outputs": []
    },
    {
      "cell_type": "code",
      "metadata": {
        "colab": {
          "base_uri": "https://localhost:8080/"
        },
        "id": "3QglclQhuwqC",
        "outputId": "7e6b670d-9627-4394-9387-16d8970c52dd"
      },
      "source": [
        "for country, capital in zip(countries,capitals):\r\n",
        "  print(f\"capital of {country} is {capital}\")"
      ],
      "execution_count": null,
      "outputs": [
        {
          "output_type": "stream",
          "text": [
            "capital of tr is ank\n",
            "capital of nl is ams\n",
            "capital of fr is paris\n",
            "capital of usa is ny\n"
          ],
          "name": "stdout"
        }
      ]
    },
    {
      "cell_type": "code",
      "metadata": {
        "colab": {
          "base_uri": "https://localhost:8080/"
        },
        "id": "trI2QEa3u4rE",
        "outputId": "ece6c05c-73fe-4ad8-bf2f-7c2608aa9592"
      },
      "source": [
        "countries=[\"tr\", \"nl\", \"fr\", \"usa\"]\r\n",
        "capitals=[\"ank\", \"ams\", \"paris\", \"ny\"]\r\n",
        "continent=[\"asi\", \"eur\", \"eur\", \"ame\"]\r\n",
        "\r\n",
        "for country, capital, cont in zip(countries,capitals, continent):\r\n",
        "  print(f\"capital of {country} is {capital} in the continent of {cont}\")"
      ],
      "execution_count": null,
      "outputs": [
        {
          "output_type": "stream",
          "text": [
            "capital of tr is ank in the continent of asi\n",
            "capital of nl is ams in the continent of eur\n",
            "capital of fr is paris in the continent of eur\n",
            "capital of usa is ny in the continent of ame\n"
          ],
          "name": "stdout"
        }
      ]
    },
    {
      "cell_type": "code",
      "metadata": {
        "colab": {
          "base_uri": "https://localhost:8080/"
        },
        "id": "wooIbUkbwIRw",
        "outputId": "64588928-8f02-4e49-94d8-d63cf5e3f4c1"
      },
      "source": [
        "sum(i**2 for i in range(6))  # ilk beş rakam kareleri toplamı"
      ],
      "execution_count": null,
      "outputs": [
        {
          "output_type": "execute_result",
          "data": {
            "text/plain": [
              "55"
            ]
          },
          "metadata": {
            "tags": []
          },
          "execution_count": 67
        }
      ]
    },
    {
      "cell_type": "code",
      "metadata": {
        "id": "oKLjO2k6wq00"
      },
      "source": [
        "# [body for variable in iterable for variable2 in iterable2]  # from upper to inner"
      ],
      "execution_count": null,
      "outputs": []
    },
    {
      "cell_type": "code",
      "metadata": {
        "id": "AcFGmfLO0F88"
      },
      "source": [
        "# [i + j for i in xList for j in yList]  # nested list compherension"
      ],
      "execution_count": null,
      "outputs": []
    },
    {
      "cell_type": "code",
      "metadata": {
        "colab": {
          "base_uri": "https://localhost:8080/"
        },
        "id": "3HZH9FsO1I3u",
        "outputId": "2b665128-d9e9-41a1-eac3-faf8ba824f58"
      },
      "source": [
        "result=[]\r\n",
        "\r\n",
        "for i in range(4):\r\n",
        "  for j in range(4,7):\r\n",
        "    result.append(str(i)+str(j))\r\n",
        "\r\n",
        "result"
      ],
      "execution_count": null,
      "outputs": [
        {
          "output_type": "execute_result",
          "data": {
            "text/plain": [
              "['04', '05', '06', '14', '15', '16', '24', '25', '26', '34', '35', '36']"
            ]
          },
          "metadata": {
            "tags": []
          },
          "execution_count": 72
        }
      ]
    },
    {
      "cell_type": "code",
      "metadata": {
        "colab": {
          "base_uri": "https://localhost:8080/"
        },
        "id": "Zo0v3A8n1YxL",
        "outputId": "eacf1b1b-71e2-40d2-df79-71f1879883b5"
      },
      "source": [
        "[str(i)+str(j) for i in range(4) for j in range(4,7)]"
      ],
      "execution_count": null,
      "outputs": [
        {
          "output_type": "execute_result",
          "data": {
            "text/plain": [
              "['04', '05', '06', '14', '15', '16', '24', '25', '26', '34', '35', '36']"
            ]
          },
          "metadata": {
            "tags": []
          },
          "execution_count": 73
        }
      ]
    },
    {
      "cell_type": "code",
      "metadata": {
        "colab": {
          "base_uri": "https://localhost:8080/"
        },
        "id": "0xF6rxPH1o-f",
        "outputId": "96352ce8-f11c-40fb-a404-350fb2ab32e8"
      },
      "source": [
        "result=[]\r\n",
        "\r\n",
        "for i in range(4):\r\n",
        "  if i % 2 == 0:\r\n",
        "    for j in range(4,7):\r\n",
        "      result.append(str(i)+str(j))\r\n",
        "\r\n",
        "result  # just even numbers"
      ],
      "execution_count": null,
      "outputs": [
        {
          "output_type": "execute_result",
          "data": {
            "text/plain": [
              "['04', '05', '06', '24', '25', '26']"
            ]
          },
          "metadata": {
            "tags": []
          },
          "execution_count": 75
        }
      ]
    },
    {
      "cell_type": "code",
      "metadata": {
        "colab": {
          "base_uri": "https://localhost:8080/"
        },
        "id": "e2p7ghk9154B",
        "outputId": "80a713f5-7e0b-4160-b7bd-eaea8bac5a44"
      },
      "source": [
        "# body if condition else body2\r\n",
        "[str(i)+str(j) for i in range(4) for j in range(4,7) if i%2==0]"
      ],
      "execution_count": null,
      "outputs": [
        {
          "output_type": "execute_result",
          "data": {
            "text/plain": [
              "['04', '05', '06', '24', '25', '26']"
            ]
          },
          "metadata": {
            "tags": []
          },
          "execution_count": 76
        }
      ]
    },
    {
      "cell_type": "code",
      "metadata": {
        "id": "bO-sNWyQ26g2"
      },
      "source": [
        ""
      ],
      "execution_count": null,
      "outputs": []
    }
  ]
}
